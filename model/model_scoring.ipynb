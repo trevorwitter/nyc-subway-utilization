{
 "cells": [
  {
   "cell_type": "code",
   "execution_count": 1,
   "id": "c2c1b000-9248-4603-a20f-c3ddad83f929",
   "metadata": {},
   "outputs": [],
   "source": [
    "import os\n",
    "import json\n",
    "import logging\n",
    "import torch\n",
    "from torch import nn\n",
    "from torch.utils.data import Dataset, DataLoader\n",
    "import pandas as pd\n",
    "import matplotlib.pyplot as plt\n",
    "import seaborn as sns\n",
    "\n",
    "from utils import (\n",
    "    preprocess_data, \n",
    "    SequenceDataset, \n",
    "    score_model, \n",
    "    predict,\n",
    "    get_predictions,\n",
    "    plot_predictions)"
   ]
  },
  {
   "cell_type": "code",
   "execution_count": 2,
   "id": "fed18e36-6a75-47d3-b7c7-08e50cff7569",
   "metadata": {},
   "outputs": [
    {
     "data": {
      "text/plain": [
       "LSTMRegression(\n",
       "  (lstm): LSTM(704, 32, batch_first=True, dropout=0.5)\n",
       "  (linear): Linear(in_features=32, out_features=704, bias=True)\n",
       ")"
      ]
     },
     "execution_count": 2,
     "metadata": {},
     "output_type": "execute_result"
    }
   ],
   "source": [
    "saved_model_file = \"models/LSTM_32unit_1layer_30seq.pt\"\n",
    "model = torch.load(saved_model_file)\n",
    "model"
   ]
  },
  {
   "cell_type": "code",
   "execution_count": 3,
   "id": "437dc514-c94b-41c6-b9cb-ccf28dc212df",
   "metadata": {},
   "outputs": [
    {
     "data": {
      "text/plain": [
       "(16800, 704)"
      ]
     },
     "execution_count": 3,
     "metadata": {},
     "output_type": "execute_result"
    }
   ],
   "source": [
    "filename = \"../data/mta_subway_221231_100wk_dbscan.parquet\"\n",
    "df = pd.read_parquet(filename)\n",
    "df = df.fillna(0)\n",
    "df.shape"
   ]
  },
  {
   "cell_type": "code",
   "execution_count": 4,
   "id": "1a3583fb-ceef-4f52-bcc3-ea7c43a7a369",
   "metadata": {},
   "outputs": [
    {
     "data": {
      "text/plain": [
       "(3360, 704)"
      ]
     },
     "execution_count": 4,
     "metadata": {},
     "output_type": "execute_result"
    }
   ],
   "source": [
    "df_train, df_test, features = preprocess_data(df)\n",
    "df_test.shape"
   ]
  },
  {
   "cell_type": "code",
   "execution_count": 5,
   "id": "c52676ff-f58f-4c6d-965e-86a1e03c044e",
   "metadata": {},
   "outputs": [],
   "source": [
    "class SequenceDataset(Dataset):\n",
    "    def __init__(self, dataframe, features, sequence_length=336, horizon_length=168, forecast_lead=1):\n",
    "        self.features = features\n",
    "        self.forecast_lead = forecast_lead\n",
    "        self.sequence_length = sequence_length\n",
    "        self.horizon_length = horizon_length\n",
    "        self.X = torch.tensor(dataframe[features].iloc[:-self.forecast_lead,:].values).float()\n",
    "        self.y = torch.tensor(dataframe[features].iloc[self.forecast_lead:,:].values).float()\n",
    "    def __len__(self):\n",
    "        return self.X.shape[0]\n",
    "    \n",
    "    def __getitem__(self, i):\n",
    "        if i > self.sequence_length - 1:\n",
    "            i_start = i - self.sequence_length + 1\n",
    "            x = self.X[i_start:(i + 1), :]\n",
    "        else:\n",
    "            padding = self.X[0].repeat(self.sequence_length - i - 1, 1)\n",
    "            x = self.X[0:(i+1), :]\n",
    "            x = torch.cat((padding, x), 0)\n",
    "        #y = self.X[i + self.forecast_lead]\n",
    "        return x, self.y[i:(i+self.horizon_length)]"
   ]
  },
  {
   "cell_type": "code",
   "execution_count": 6,
   "id": "e8d3d1e7-48b2-4aa2-82f5-a546bc7a8be6",
   "metadata": {},
   "outputs": [],
   "source": [
    "test_dataset = SequenceDataset(\n",
    "        df_test,\n",
    "        #target=None,\n",
    "        features=features,\n",
    "        sequence_length=10,\n",
    "        horizon_length=2,\n",
    "        forecast_lead=1\n",
    "        )"
   ]
  },
  {
   "cell_type": "code",
   "execution_count": 7,
   "id": "f18069ec-9890-4040-bfa2-9399b15f0245",
   "metadata": {},
   "outputs": [],
   "source": [
    "test_loader = DataLoader(test_dataset, batch_size=1, shuffle=False)"
   ]
  },
  {
   "cell_type": "code",
   "execution_count": 8,
   "id": "7d1b8966-b5aa-47e8-9208-2634d983b4cc",
   "metadata": {},
   "outputs": [],
   "source": [
    "def get_predictions(X,horizon_length):\n",
    "    x_ = X\n",
    "    model.eval()\n",
    "    for i in range(horizon_length):\n",
    "        y_ = model(x_)\n",
    "        if i == 0:\n",
    "            y_pred = y_\n",
    "        else:\n",
    "            y_pred = torch.cat((y_pred, y_),0)\n",
    "        x_ = torch.cat((x_,y_pred.unsqueeze(0)),1)[:,1:,:]\n",
    "    return y_pred"
   ]
  },
  {
   "cell_type": "code",
   "execution_count": 10,
   "id": "4e7dde15-541c-4d8d-b882-76bcda9caac3",
   "metadata": {},
   "outputs": [],
   "source": [
    "y_pred = None\n",
    "for X, y in test_loader:\n",
    "    y_out = get_predictions(X, y.shape[1])\n",
    "    if y_pred == None:\n",
    "        y_pred = y_out\n",
    "    else:\n",
    "        y_pred = torch.cat((y_pred, y_out),0)\n",
    "    break"
   ]
  },
  {
   "cell_type": "code",
   "execution_count": 11,
   "id": "f7063d0a-ead5-4ac4-ad49-a08e6c40dab1",
   "metadata": {},
   "outputs": [
    {
     "data": {
      "text/plain": [
       "torch.Size([2, 704])"
      ]
     },
     "execution_count": 11,
     "metadata": {},
     "output_type": "execute_result"
    }
   ],
   "source": [
    "y_out.shape"
   ]
  },
  {
   "cell_type": "code",
   "execution_count": 12,
   "id": "4854fe15-6c5f-4da7-aa64-e66817a01ab5",
   "metadata": {},
   "outputs": [
    {
     "data": {
      "text/plain": [
       "torch.Size([2, 704])"
      ]
     },
     "execution_count": 12,
     "metadata": {},
     "output_type": "execute_result"
    }
   ],
   "source": [
    "y_pred.shape"
   ]
  },
  {
   "cell_type": "code",
   "execution_count": 49,
   "id": "d6946e39-58a3-49b4-8a1c-73c00861f225",
   "metadata": {},
   "outputs": [],
   "source": [
    "y_pred.unsqueeze(0).shape"
   ]
  },
  {
   "cell_type": "code",
   "execution_count": 50,
   "id": "74e0703c-17d7-431b-8b69-1cf057b9209b",
   "metadata": {},
   "outputs": [],
   "source": [
    "X.shape"
   ]
  },
  {
   "cell_type": "code",
   "execution_count": 51,
   "id": "92da6c37-744d-4cca-ad70-fe948bff449c",
   "metadata": {},
   "outputs": [],
   "source": [
    "y.shape"
   ]
  },
  {
   "cell_type": "code",
   "execution_count": 52,
   "id": "48c00979-3404-42a3-83fe-475030882836",
   "metadata": {},
   "outputs": [],
   "source": [
    "y_pred"
   ]
  },
  {
   "cell_type": "code",
   "execution_count": 53,
   "id": "b87760e3-9836-4f74-b900-c1446fe56ca3",
   "metadata": {},
   "outputs": [],
   "source": []
  },
  {
   "cell_type": "code",
   "execution_count": 57,
   "id": "31d35e89-910f-4f47-b075-91138ca6f3fc",
   "metadata": {},
   "outputs": [],
   "source": [
    "y_pred_df = pd.DataFrame(y_pred.detach().numpy(), columns=df.columns)"
   ]
  },
  {
   "cell_type": "code",
   "execution_count": 58,
   "id": "a0423669-fb50-444e-8732-9d5b23cf9442",
   "metadata": {},
   "outputs": [],
   "source": [
    "y_df = pd.DataFrame(y.squeeze().numpy(), columns=df.columns)"
   ]
  },
  {
   "cell_type": "code",
   "execution_count": 62,
   "id": "aa3c2733-9736-471a-9eaa-f292a3ccdfa6",
   "metadata": {},
   "outputs": [],
   "source": [
    "y_pred_df.columns"
   ]
  },
  {
   "cell_type": "code",
   "execution_count": null,
   "id": "aa7da475-53a9-42d3-bd35-d4b0fb29b59b",
   "metadata": {},
   "outputs": [],
   "source": [
    "y_pred_df['42 ST-BRYANT PK_ent"
   ]
  },
  {
   "cell_type": "code",
   "execution_count": 64,
   "id": "89b6b822-17f4-4816-afcc-453c3eddbbb1",
   "metadata": {},
   "outputs": [],
   "source": [
    "def plot_predictions(y_pred,y_true,station='7 AV'):\n",
    "    ent = f\"{station}_ent\"\n",
    "    ex = f\"{station}_ex\"\n",
    "    y_pred[ent].plot(alpha=0.7,figsize=(15,5))\n",
    "    y_true[ent].plot(alpha=0.7,figsize=(15,5))\n",
    "    plt.show()\n",
    "\n",
    "plot_predictions(y_pred_df, y_df, station='42 ST-BRYANT PK')"
   ]
  },
  {
   "cell_type": "code",
   "execution_count": null,
   "id": "710d0297-95ca-4df7-93dc-a3078716295b",
   "metadata": {},
   "outputs": [],
   "source": [
    "loss_function = nn.MSELoss()\n",
    "test_score = score_model(test_loader, model, loss_function)  \n",
    "test_score"
   ]
  },
  {
   "cell_type": "code",
   "execution_count": null,
   "id": "986ae3e7-c15c-41d3-a490-6250175f021d",
   "metadata": {},
   "outputs": [],
   "source": [
    "def unnormalize(df):\n",
    "    feat_stats = json.load(open(\"location_means_stds.json\",\"rb\"))\n",
    "    mean_keys = [x for x in feat_stats if x[-5:] == '_mean']\n",
    "    means = {x[:-5]:y for x, y in zip(mean_keys, [feat_stats[x] for x in mean_keys])}\n",
    "\n",
    "    std_keys = [x for x in feat_stats if x[-4:] == '_std']\n",
    "    stds = {x[:-4]:y for x, y in zip(std_keys, [feat_stats[x] for x in std_keys])}\n",
    "    \n",
    "    for x in df:\n",
    "        df[x] = (df[x] * stds[x]) + means[x]\n",
    "    \n",
    "    return df"
   ]
  },
  {
   "cell_type": "code",
   "execution_count": null,
   "id": "4736ad1e-06d9-487b-a928-3ce0f08331f6",
   "metadata": {},
   "outputs": [],
   "source": [
    "def get_predictions(data_loader, model, features):\n",
    "    y_pred = predict(data_loader, model)\n",
    "    df_out = pd.DataFrame(y_pred,columns=features)\n",
    "    # need to rescale prediction values\n",
    "    df_out = unnormalize(df_out)\n",
    "    # need to add hour timestamp index for each row\n",
    "    return df_out\n",
    "\n",
    "df_out = get_predictions(test_loader, model, features)\n",
    "df_out.head()"
   ]
  },
  {
   "cell_type": "code",
   "execution_count": null,
   "id": "43af5ffe-e2dc-49e0-8395-1bf8dd900cf4",
   "metadata": {},
   "outputs": [],
   "source": [
    "y_true = unnormalize(df_test)\n",
    "y_true = y_true.iloc[:-1,:]"
   ]
  },
  {
   "cell_type": "code",
   "execution_count": null,
   "id": "360d7d5c-3d02-4684-9998-c9d6dd33ede3",
   "metadata": {},
   "outputs": [],
   "source": [
    "df_out.index = y_true.index"
   ]
  },
  {
   "cell_type": "code",
   "execution_count": null,
   "id": "e8f78579-0d1d-4779-8388-a2683daa33e1",
   "metadata": {},
   "outputs": [],
   "source": [
    "df_out['7 AV_ent'].plot(figsize=(10,5))"
   ]
  },
  {
   "cell_type": "markdown",
   "id": "9b11dbfd-8a3d-4b2c-93e0-6662b3b7e0b6",
   "metadata": {},
   "source": [
    "## Notes\n",
    "- Currently, model just makes one sample prediction based on actual values obtained from training or test dataset. Need to set up to make stepwise prediction for an entire week following prior two weeks as model input. \n",
    "    - This can be used for model inference\n",
    "    - Will give model scores more accurate to what would be used in inference as each sample prediction will be based on prior predicted samples, not actual values as given in training dataset"
   ]
  },
  {
   "cell_type": "code",
   "execution_count": null,
   "id": "0401fca0-7773-4bc9-8e5c-f3ff06fe192b",
   "metadata": {},
   "outputs": [],
   "source": [
    "def get_predictions2(data_loader, model, features,output_length=168):\n",
    "    y_pred = predict(data_loader, model)\n",
    "    df_out = pd.DataFrame(y_pred,columns=features)\n",
    "    # need to rescale prediction values\n",
    "    df_out = unnormalize(df_out)\n",
    "    # need to add hour timestamp index for each row\n",
    "    return df_out\n",
    "\n",
    "df_out = get_predictions(test_loader, model, features)\n",
    "df_out.head()"
   ]
  },
  {
   "cell_type": "code",
   "execution_count": null,
   "id": "5d7b88dd-9b4d-4cc0-a6f8-074e7988a214",
   "metadata": {},
   "outputs": [],
   "source": [
    "def predict2(data_loader, model):\n",
    "    output = torch.tensor([])\n",
    "    model.eval()\n",
    "    with torch.no_grad():\n",
    "        for X, _ in data_loader:\n",
    "            y_star = model(X)\n",
    "            output = torch.cat((output, y_star), 0)\n",
    "    return output"
   ]
  },
  {
   "cell_type": "code",
   "execution_count": null,
   "id": "13906ef4-79c5-4231-9e73-cd2c043c6cfe",
   "metadata": {},
   "outputs": [],
   "source": []
  }
 ],
 "metadata": {
  "kernelspec": {
   "display_name": "Python 3 (ipykernel)",
   "language": "python",
   "name": "python3"
  },
  "language_info": {
   "codemirror_mode": {
    "name": "ipython",
    "version": 3
   },
   "file_extension": ".py",
   "mimetype": "text/x-python",
   "name": "python",
   "nbconvert_exporter": "python",
   "pygments_lexer": "ipython3",
   "version": "3.10.8"
  }
 },
 "nbformat": 4,
 "nbformat_minor": 5
}
