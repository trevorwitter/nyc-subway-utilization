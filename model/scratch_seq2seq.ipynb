{
 "cells": [
  {
   "cell_type": "code",
   "execution_count": 1,
   "id": "b74c7cfc-025a-4dc5-82ee-ab35f3ee445e",
   "metadata": {},
   "outputs": [],
   "source": [
    "import os\n",
    "import json\n",
    "import logging\n",
    "import torch\n",
    "from torch import nn\n",
    "from torch.utils.data import Dataset, DataLoader\n",
    "import pandas as pd\n",
    "import matplotlib.pyplot as plt\n",
    "import seaborn as sns\n",
    "\n",
    "from utils import (\n",
    "    preprocess_data, \n",
    "    SequenceDataset, \n",
    "    score_model, \n",
    "    predict,\n",
    "    get_predictions,\n",
    "    plot_predictions)"
   ]
  },
  {
   "cell_type": "code",
   "execution_count": 2,
   "id": "8ade53b0-2f43-4139-ab2a-ac565ec00fb0",
   "metadata": {},
   "outputs": [
    {
     "data": {
      "text/plain": [
       "(16800, 704)"
      ]
     },
     "execution_count": 2,
     "metadata": {},
     "output_type": "execute_result"
    }
   ],
   "source": [
    "filename = \"../data/mta_subway_221231_100wk_dbscan.parquet\"\n",
    "df = pd.read_parquet(filename)\n",
    "df = df.fillna(0)\n",
    "df.shape"
   ]
  },
  {
   "cell_type": "code",
   "execution_count": 3,
   "id": "097ea847-20ce-4f9c-ad1c-65716d13b38a",
   "metadata": {},
   "outputs": [
    {
     "data": {
      "text/plain": [
       "(3360, 704)"
      ]
     },
     "execution_count": 3,
     "metadata": {},
     "output_type": "execute_result"
    }
   ],
   "source": [
    "df_train, df_test, features = preprocess_data(df)\n",
    "df_test.shape"
   ]
  },
  {
   "cell_type": "code",
   "execution_count": 4,
   "id": "e08f491b-9e51-4fc9-aedd-b499ef729298",
   "metadata": {},
   "outputs": [],
   "source": [
    "train_dataset = SequenceDataset(\n",
    "        df_train,\n",
    "        #target=None,\n",
    "        features=features,\n",
    "        sequence_length=336,\n",
    "        forecast_lead=1\n",
    "        )\n",
    "test_dataset = SequenceDataset(\n",
    "        df_test,\n",
    "        #target=None,\n",
    "        features=features,\n",
    "        sequence_length=336,\n",
    "        forecast_lead=1\n",
    "        )"
   ]
  },
  {
   "cell_type": "code",
   "execution_count": 5,
   "id": "5c86b979-956e-4604-94b3-b5653de8091c",
   "metadata": {},
   "outputs": [],
   "source": [
    "train_loader = DataLoader(train_dataset, batch_size=4, shuffle=True)\n",
    "test_loader = DataLoader(test_dataset, batch_size=1, shuffle=False)"
   ]
  },
  {
   "cell_type": "code",
   "execution_count": null,
   "id": "f76b3d1e-aeab-4ceb-a72b-df3a9d29622c",
   "metadata": {},
   "outputs": [],
   "source": [
    "class Encoder(nn.Module):\n",
    "    def __init__(self, num_features, hidden_units, num_layers=1,dropout=0):\n",
    "        super(Encoder, self).__init__()\n",
    "        self.num_features = num_features\n",
    "        self.hidden_units = hidden_units\n",
    "        self.num_layers = num_layers\n",
    "        self.dropout = dropout\n",
    "        self.lstm = nn.LSTM(\n",
    "            input_size=num_features,\n",
    "            hidden_size=hidden_units,\n",
    "            batch_first=True,\n",
    "            num_layers=self.num_layers,\n",
    "            dropout=self.dropout\n",
    "        )\n",
    "            \n",
    "    def forward(self,x):\n",
    "        batch_size = x.shape[0]\n",
    "        h0 = torch.zeros(self.num_layers, batch_size, self.hidden_units).requires_grad_()\n",
    "        c0 = torch.zeros(self.num_layers, batch_size, self.hidden_units).requires_grad_()\n",
    "        x, (h, c) = self.lstm(x, (h0, c0))\n",
    "        return x, h, c\n",
    "\n",
    "class Decoder(nn.Module):\n",
    "    def __init__(self, seq_len, input_dim, num_features, dropout=0):\n",
    "        super(Decoder, self).__init__()\n",
    "        self.seq_len = seq_len\n",
    "        self.input_dim = input_dim\n",
    "        self.hidden_dim = input_dim\n",
    "        self.num_features = num_features\n",
    "        self.dropout=dropout\n",
    "        self.lstm = nn.LSTM(\n",
    "            input_size=1, \n",
    "            hidden_size=input_dim,\n",
    "            num_layers=3,\n",
    "            batch_first=True,\n",
    "            dropout=self.dropout\n",
    "        )\n",
    "        self.linear = nn.Linear(self.hidden_dim, self.num_features)\n",
    "\n",
    "    def forward(self, x, input_h, input_c):\n",
    "        x = x.reshape((1,1,1))\n",
    "        x, (hn, cn) = self.lstm(x, (input_h, input_c))\n",
    "        x = self.linear(x)\n",
    "        return x, hn, cn\n",
    "\n",
    "class Seq2Seq(nn.Module):\n",
    "    def __init__(self, num_features, horizon, encoder_hidden_units, encoder_num_layers=1, dropout=0):\n",
    "        super().__init__()\n",
    "        self.num_features = num_features\n",
    "        self.hidden_units = hidden_units\n",
    "        self.num_layers = num_layers\n",
    "        self.dropout = dropout\n",
    "        self.encoder = Encoder(\n",
    "            num_features=self.num_features,\n",
    "            hidden_units=self.hidden_units, \n",
    "            num_layers=self.num_layers, \n",
    "            dropout=self.dropout\n",
    "            )\n",
    "        self.decoder = Decoder(\n",
    "            seq_len=,\n",
    "            input_dim=,\n",
    "            num_features=,\n",
    "            \n",
    "            dropout=self.dropout\n",
    "            #input is output state of encoder\n",
    "            #output length is equal to specified horizon length\n",
    "            )\n",
    "    \n",
    "    def forward(self,x):\n",
    "        batch_size = x.shape[0]\n",
    "        h0 = torch.zeros(self.num_layers, batch_size, self.hidden_units).requires_grad_()\n",
    "        c0 = torch.zeros(self.num_layers, batch_size, self.hidden_units).requires_grad_()\n",
    "        o,(hn,_) = self.encoder(x, (h0, c0))\n",
    "        \n",
    "        out = self.decoder() #decoder takes output of encoder\n",
    "        return out"
   ]
  },
  {
   "cell_type": "code",
   "execution_count": null,
   "id": "52aba31f-c299-42bb-b774-1a711cd5c52e",
   "metadata": {},
   "outputs": [],
   "source": [
    "model = LSTMRegression(\n",
    "        num_features=len(features), \n",
    "        hidden_units=num_hidden_units,\n",
    "        num_layers=num_layers,\n",
    "        dropout=dropout\n",
    "        )#.to(device=device)\n",
    "\n",
    "loss_function = nn.MSELoss()\n",
    "optimizer = torch.optim.Adam(model.parameters(), lr=learning_rate)"
   ]
  },
  {
   "cell_type": "code",
   "execution_count": null,
   "id": "f54e0610-8b07-48d0-889e-c6cbb14c6846",
   "metadata": {},
   "outputs": [],
   "source": [
    "# rewrite train_model() to output whole sequence of length 'horizion'\n",
    "#avg_loss = train_model(train_loader, model, loss_function, optimizer=optimizer)"
   ]
  }
 ],
 "metadata": {
  "kernelspec": {
   "display_name": "Python 3 (ipykernel)",
   "language": "python",
   "name": "python3"
  },
  "language_info": {
   "codemirror_mode": {
    "name": "ipython",
    "version": 3
   },
   "file_extension": ".py",
   "mimetype": "text/x-python",
   "name": "python",
   "nbconvert_exporter": "python",
   "pygments_lexer": "ipython3",
   "version": "3.10.8"
  }
 },
 "nbformat": 4,
 "nbformat_minor": 5
}
