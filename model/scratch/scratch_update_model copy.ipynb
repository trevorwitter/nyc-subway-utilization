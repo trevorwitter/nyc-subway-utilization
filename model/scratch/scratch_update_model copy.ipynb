{
 "cells": [
  {
   "cell_type": "code",
   "execution_count": 1,
   "id": "05f6fe54-07ca-4737-a5ff-c42420bd3fec",
   "metadata": {},
   "outputs": [
    {
     "name": "stderr",
     "output_type": "stream",
     "text": [
      "/Users/twitter/anaconda3/envs/py310_ts/lib/python3.10/site-packages/tqdm/auto.py:22: TqdmWarning: IProgress not found. Please update jupyter and ipywidgets. See https://ipywidgets.readthedocs.io/en/stable/user_install.html\n",
      "  from .autonotebook import tqdm as notebook_tqdm\n"
     ]
    }
   ],
   "source": [
    "import os\n",
    "import argparse\n",
    "import pandas as pd\n",
    "import torch\n",
    "from torch import nn\n",
    "from torch.utils.data import Dataset, DataLoader\n",
    "from utils import preprocess_data, SequenceDataset, train_model, score_model, log, get_predictions, plot_predictions\n",
    "from model import LSTMRegression"
   ]
  },
  {
   "attachments": {},
   "cell_type": "markdown",
   "id": "a8f48f29",
   "metadata": {},
   "source": [
    "```\n",
    "KEW GARDENS_ent        16800\n",
    "15 ST-PROSPECT_ex      16800\n",
    "KEW GARDENS_ex         16800\n",
    "161/YANKEE STAD_ex     16800\n",
    "161/YANKEE STAD_ent    16800\n",
    "15 ST-PROSPECT_ent     16800\n",
    "```"
   ]
  },
  {
   "cell_type": "code",
   "execution_count": 2,
   "id": "3dc447a0-666c-4884-b0f6-74f2a8bbb32c",
   "metadata": {},
   "outputs": [
    {
     "data": {
      "text/plain": [
       "(16800, 752)"
      ]
     },
     "execution_count": 2,
     "metadata": {},
     "output_type": "execute_result"
    }
   ],
   "source": [
    "df = pd.read_parquet(\"../data/mta_subway_221231_100wk_dbscan.parquet\")\n",
    "df = df.drop(\n",
    "    [\n",
    "        \"KEW GARDENS_ent\", \n",
    "        \"KEW GARDENS_ex\", \n",
    "        \"15 ST-PROSPECT_ent\", \n",
    "        \"15 ST-PROSPECT_ex\", \n",
    "        \"161/YANKEE STAD_ent\",\n",
    "        \"161/YANKEE STAD_ex\"\n",
    "        ],\n",
    "    axis=1)\n",
    "df = df.fillna(0)\n",
    "df.shape"
   ]
  },
  {
   "cell_type": "code",
   "execution_count": 3,
   "id": "78fcf0c9",
   "metadata": {},
   "outputs": [
    {
     "data": {
      "text/plain": [
       "1 AV_ent             False\n",
       "1 AV_ex              False\n",
       "103 ST-CORONA_ent    False\n",
       "103 ST-CORONA_ex     False\n",
       "103 ST_ent           False\n",
       "                     ...  \n",
       "WTC-CORTLANDT_ex     False\n",
       "YORK ST_ent          False\n",
       "YORK ST_ex           False\n",
       "ZEREGA AV_ent        False\n",
       "ZEREGA AV_ex         False\n",
       "Length: 752, dtype: bool"
      ]
     },
     "execution_count": 3,
     "metadata": {},
     "output_type": "execute_result"
    }
   ],
   "source": [
    "df.sum()==0"
   ]
  },
  {
   "cell_type": "code",
   "execution_count": 4,
   "id": "0ec1663d-bb59-433e-a912-21de4ea51c6b",
   "metadata": {},
   "outputs": [
    {
     "data": {
      "text/html": [
       "<div>\n",
       "<style scoped>\n",
       "    .dataframe tbody tr th:only-of-type {\n",
       "        vertical-align: middle;\n",
       "    }\n",
       "\n",
       "    .dataframe tbody tr th {\n",
       "        vertical-align: top;\n",
       "    }\n",
       "\n",
       "    .dataframe thead th {\n",
       "        text-align: right;\n",
       "    }\n",
       "</style>\n",
       "<table border=\"1\" class=\"dataframe\">\n",
       "  <thead>\n",
       "    <tr style=\"text-align: right;\">\n",
       "      <th></th>\n",
       "      <th>1 AV_ent</th>\n",
       "      <th>1 AV_ex</th>\n",
       "      <th>103 ST-CORONA_ent</th>\n",
       "      <th>103 ST-CORONA_ex</th>\n",
       "      <th>103 ST_ent</th>\n",
       "      <th>103 ST_ex</th>\n",
       "      <th>104 ST_ent</th>\n",
       "      <th>104 ST_ex</th>\n",
       "      <th>110 ST_ent</th>\n",
       "      <th>110 ST_ex</th>\n",
       "      <th>...</th>\n",
       "      <th>WOODLAWN_ent</th>\n",
       "      <th>WOODLAWN_ex</th>\n",
       "      <th>WORLD TRADE CTR_ent</th>\n",
       "      <th>WORLD TRADE CTR_ex</th>\n",
       "      <th>WTC-CORTLANDT_ent</th>\n",
       "      <th>WTC-CORTLANDT_ex</th>\n",
       "      <th>YORK ST_ent</th>\n",
       "      <th>YORK ST_ex</th>\n",
       "      <th>ZEREGA AV_ent</th>\n",
       "      <th>ZEREGA AV_ex</th>\n",
       "    </tr>\n",
       "    <tr>\n",
       "      <th>TIME</th>\n",
       "      <th></th>\n",
       "      <th></th>\n",
       "      <th></th>\n",
       "      <th></th>\n",
       "      <th></th>\n",
       "      <th></th>\n",
       "      <th></th>\n",
       "      <th></th>\n",
       "      <th></th>\n",
       "      <th></th>\n",
       "      <th></th>\n",
       "      <th></th>\n",
       "      <th></th>\n",
       "      <th></th>\n",
       "      <th></th>\n",
       "      <th></th>\n",
       "      <th></th>\n",
       "      <th></th>\n",
       "      <th></th>\n",
       "      <th></th>\n",
       "      <th></th>\n",
       "    </tr>\n",
       "  </thead>\n",
       "  <tbody>\n",
       "    <tr>\n",
       "      <th>2021-01-23 00:00:00</th>\n",
       "      <td>12.0</td>\n",
       "      <td>63.5</td>\n",
       "      <td>233.25</td>\n",
       "      <td>37.5</td>\n",
       "      <td>12.0</td>\n",
       "      <td>31.5</td>\n",
       "      <td>31.5</td>\n",
       "      <td>3.25</td>\n",
       "      <td>31.25</td>\n",
       "      <td>27.75</td>\n",
       "      <td>...</td>\n",
       "      <td>40.0</td>\n",
       "      <td>12.25</td>\n",
       "      <td>1.75</td>\n",
       "      <td>2.5</td>\n",
       "      <td>1.0</td>\n",
       "      <td>5.75</td>\n",
       "      <td>0.0</td>\n",
       "      <td>0.0</td>\n",
       "      <td>0.25</td>\n",
       "      <td>6.0</td>\n",
       "    </tr>\n",
       "    <tr>\n",
       "      <th>2021-01-23 01:00:00</th>\n",
       "      <td>12.0</td>\n",
       "      <td>63.5</td>\n",
       "      <td>233.25</td>\n",
       "      <td>37.5</td>\n",
       "      <td>12.0</td>\n",
       "      <td>31.5</td>\n",
       "      <td>31.5</td>\n",
       "      <td>3.25</td>\n",
       "      <td>31.25</td>\n",
       "      <td>27.75</td>\n",
       "      <td>...</td>\n",
       "      <td>40.0</td>\n",
       "      <td>12.25</td>\n",
       "      <td>1.75</td>\n",
       "      <td>2.5</td>\n",
       "      <td>1.0</td>\n",
       "      <td>5.75</td>\n",
       "      <td>0.0</td>\n",
       "      <td>0.0</td>\n",
       "      <td>0.25</td>\n",
       "      <td>6.0</td>\n",
       "    </tr>\n",
       "    <tr>\n",
       "      <th>2021-01-23 02:00:00</th>\n",
       "      <td>12.0</td>\n",
       "      <td>63.5</td>\n",
       "      <td>233.25</td>\n",
       "      <td>37.5</td>\n",
       "      <td>12.0</td>\n",
       "      <td>31.5</td>\n",
       "      <td>31.5</td>\n",
       "      <td>3.25</td>\n",
       "      <td>31.25</td>\n",
       "      <td>27.75</td>\n",
       "      <td>...</td>\n",
       "      <td>40.0</td>\n",
       "      <td>12.25</td>\n",
       "      <td>1.75</td>\n",
       "      <td>2.5</td>\n",
       "      <td>1.0</td>\n",
       "      <td>5.75</td>\n",
       "      <td>0.0</td>\n",
       "      <td>0.0</td>\n",
       "      <td>0.25</td>\n",
       "      <td>6.0</td>\n",
       "    </tr>\n",
       "    <tr>\n",
       "      <th>2021-01-23 03:00:00</th>\n",
       "      <td>12.0</td>\n",
       "      <td>63.5</td>\n",
       "      <td>233.25</td>\n",
       "      <td>37.5</td>\n",
       "      <td>12.0</td>\n",
       "      <td>31.5</td>\n",
       "      <td>31.5</td>\n",
       "      <td>3.25</td>\n",
       "      <td>31.25</td>\n",
       "      <td>27.75</td>\n",
       "      <td>...</td>\n",
       "      <td>40.0</td>\n",
       "      <td>12.25</td>\n",
       "      <td>1.75</td>\n",
       "      <td>2.5</td>\n",
       "      <td>1.0</td>\n",
       "      <td>5.75</td>\n",
       "      <td>0.0</td>\n",
       "      <td>0.0</td>\n",
       "      <td>0.25</td>\n",
       "      <td>6.0</td>\n",
       "    </tr>\n",
       "    <tr>\n",
       "      <th>2021-01-23 04:00:00</th>\n",
       "      <td>12.0</td>\n",
       "      <td>63.5</td>\n",
       "      <td>233.25</td>\n",
       "      <td>37.5</td>\n",
       "      <td>12.0</td>\n",
       "      <td>31.5</td>\n",
       "      <td>31.5</td>\n",
       "      <td>3.25</td>\n",
       "      <td>31.25</td>\n",
       "      <td>27.75</td>\n",
       "      <td>...</td>\n",
       "      <td>40.0</td>\n",
       "      <td>12.25</td>\n",
       "      <td>1.75</td>\n",
       "      <td>2.5</td>\n",
       "      <td>1.0</td>\n",
       "      <td>5.75</td>\n",
       "      <td>0.0</td>\n",
       "      <td>0.0</td>\n",
       "      <td>0.25</td>\n",
       "      <td>6.0</td>\n",
       "    </tr>\n",
       "  </tbody>\n",
       "</table>\n",
       "<p>5 rows × 752 columns</p>\n",
       "</div>"
      ],
      "text/plain": [
       "                     1 AV_ent  1 AV_ex  103 ST-CORONA_ent  103 ST-CORONA_ex  \\\n",
       "TIME                                                                          \n",
       "2021-01-23 00:00:00      12.0     63.5             233.25              37.5   \n",
       "2021-01-23 01:00:00      12.0     63.5             233.25              37.5   \n",
       "2021-01-23 02:00:00      12.0     63.5             233.25              37.5   \n",
       "2021-01-23 03:00:00      12.0     63.5             233.25              37.5   \n",
       "2021-01-23 04:00:00      12.0     63.5             233.25              37.5   \n",
       "\n",
       "                     103 ST_ent  103 ST_ex  104 ST_ent  104 ST_ex  110 ST_ent  \\\n",
       "TIME                                                                            \n",
       "2021-01-23 00:00:00        12.0       31.5        31.5       3.25       31.25   \n",
       "2021-01-23 01:00:00        12.0       31.5        31.5       3.25       31.25   \n",
       "2021-01-23 02:00:00        12.0       31.5        31.5       3.25       31.25   \n",
       "2021-01-23 03:00:00        12.0       31.5        31.5       3.25       31.25   \n",
       "2021-01-23 04:00:00        12.0       31.5        31.5       3.25       31.25   \n",
       "\n",
       "                     110 ST_ex  ...  WOODLAWN_ent  WOODLAWN_ex  \\\n",
       "TIME                            ...                              \n",
       "2021-01-23 00:00:00      27.75  ...          40.0        12.25   \n",
       "2021-01-23 01:00:00      27.75  ...          40.0        12.25   \n",
       "2021-01-23 02:00:00      27.75  ...          40.0        12.25   \n",
       "2021-01-23 03:00:00      27.75  ...          40.0        12.25   \n",
       "2021-01-23 04:00:00      27.75  ...          40.0        12.25   \n",
       "\n",
       "                     WORLD TRADE CTR_ent  WORLD TRADE CTR_ex  \\\n",
       "TIME                                                           \n",
       "2021-01-23 00:00:00                 1.75                 2.5   \n",
       "2021-01-23 01:00:00                 1.75                 2.5   \n",
       "2021-01-23 02:00:00                 1.75                 2.5   \n",
       "2021-01-23 03:00:00                 1.75                 2.5   \n",
       "2021-01-23 04:00:00                 1.75                 2.5   \n",
       "\n",
       "                     WTC-CORTLANDT_ent  WTC-CORTLANDT_ex  YORK ST_ent  \\\n",
       "TIME                                                                    \n",
       "2021-01-23 00:00:00                1.0              5.75          0.0   \n",
       "2021-01-23 01:00:00                1.0              5.75          0.0   \n",
       "2021-01-23 02:00:00                1.0              5.75          0.0   \n",
       "2021-01-23 03:00:00                1.0              5.75          0.0   \n",
       "2021-01-23 04:00:00                1.0              5.75          0.0   \n",
       "\n",
       "                     YORK ST_ex  ZEREGA AV_ent  ZEREGA AV_ex  \n",
       "TIME                                                          \n",
       "2021-01-23 00:00:00         0.0           0.25           6.0  \n",
       "2021-01-23 01:00:00         0.0           0.25           6.0  \n",
       "2021-01-23 02:00:00         0.0           0.25           6.0  \n",
       "2021-01-23 03:00:00         0.0           0.25           6.0  \n",
       "2021-01-23 04:00:00         0.0           0.25           6.0  \n",
       "\n",
       "[5 rows x 752 columns]"
      ]
     },
     "execution_count": 4,
     "metadata": {},
     "output_type": "execute_result"
    }
   ],
   "source": [
    "df.head()"
   ]
  },
  {
   "cell_type": "code",
   "execution_count": 5,
   "id": "5922d55f-aa58-4da8-a06f-017711d6fc4b",
   "metadata": {},
   "outputs": [],
   "source": [
    "forecast_lead=0\n",
    "batch_size=32\n",
    "sequence_length=30\n",
    "learning_rate = 5e-5\n",
    "num_hidden_units=16\n",
    "num_layers=1\n",
    "dropout=0\n",
    "num_epochs=2"
   ]
  },
  {
   "cell_type": "code",
   "execution_count": 6,
   "id": "e8a15a76-91b5-49cb-b50a-bc3847abb83d",
   "metadata": {},
   "outputs": [
    {
     "data": {
      "text/plain": [
       "32"
      ]
     },
     "execution_count": 6,
     "metadata": {},
     "output_type": "execute_result"
    }
   ],
   "source": [
    "batch_size"
   ]
  },
  {
   "cell_type": "code",
   "execution_count": 7,
   "id": "a969aef8-0c32-44cc-bbbd-50e29e3cbbef",
   "metadata": {},
   "outputs": [],
   "source": [
    "df_train, df_test, features = preprocess_data(\n",
    "        df,\n",
    "        #target_feature, \n",
    "        forecast_lead=forecast_lead,\n",
    "        train_test_split=0.8\n",
    "        )"
   ]
  },
  {
   "cell_type": "code",
   "execution_count": null,
   "id": "fbfb46af-fd91-48a5-889c-9385d3d661ea",
   "metadata": {},
   "outputs": [],
   "source": [
    "df_train.head(2)"
   ]
  },
  {
   "cell_type": "code",
   "execution_count": null,
   "id": "1c7c6130",
   "metadata": {},
   "outputs": [],
   "source": [
    "df_train.shape"
   ]
  },
  {
   "cell_type": "code",
   "execution_count": null,
   "id": "70757544",
   "metadata": {},
   "outputs": [],
   "source": [
    "df_test.shape"
   ]
  },
  {
   "cell_type": "code",
   "execution_count": null,
   "id": "c823df01",
   "metadata": {},
   "outputs": [],
   "source": [
    "df_train.mean()"
   ]
  },
  {
   "cell_type": "code",
   "execution_count": null,
   "id": "084a9b6d",
   "metadata": {},
   "outputs": [],
   "source": [
    "df_test.mean()"
   ]
  },
  {
   "cell_type": "code",
   "execution_count": null,
   "id": "13ead7b3",
   "metadata": {},
   "outputs": [],
   "source": [
    "df_train['1 AV_ent'].plot()"
   ]
  },
  {
   "cell_type": "code",
   "execution_count": null,
   "id": "3bf056fb",
   "metadata": {},
   "outputs": [],
   "source": [
    "df_test['1 AV_ent'].plot()"
   ]
  },
  {
   "cell_type": "code",
   "execution_count": null,
   "id": "543312c4",
   "metadata": {},
   "outputs": [],
   "source": [
    "#df_train.isna().sum().sort_values(ascending=False).head(20)"
   ]
  },
  {
   "cell_type": "code",
   "execution_count": 8,
   "id": "72998d8d-831f-4e1d-9f4d-1b5a6b72ebab",
   "metadata": {},
   "outputs": [],
   "source": [
    "train_dataset = SequenceDataset(\n",
    "    df_train,\n",
    "    #target=None,\n",
    "    features=features,\n",
    "    sequence_length=sequence_length,\n",
    "    forecast_lead=1\n",
    "    )\n",
    "\n",
    "test_dataset = SequenceDataset(\n",
    "    df_test,\n",
    "    #target=None,\n",
    "    features=features,\n",
    "    sequence_length=sequence_length,\n",
    "    forecast_lead=1\n",
    "    )"
   ]
  },
  {
   "cell_type": "code",
   "execution_count": 9,
   "id": "cd9e4772",
   "metadata": {},
   "outputs": [
    {
     "data": {
      "text/html": [
       "<div>\n",
       "<style scoped>\n",
       "    .dataframe tbody tr th:only-of-type {\n",
       "        vertical-align: middle;\n",
       "    }\n",
       "\n",
       "    .dataframe tbody tr th {\n",
       "        vertical-align: top;\n",
       "    }\n",
       "\n",
       "    .dataframe thead th {\n",
       "        text-align: right;\n",
       "    }\n",
       "</style>\n",
       "<table border=\"1\" class=\"dataframe\">\n",
       "  <thead>\n",
       "    <tr style=\"text-align: right;\">\n",
       "      <th></th>\n",
       "      <th>1 AV_ent</th>\n",
       "    </tr>\n",
       "    <tr>\n",
       "      <th>TIME</th>\n",
       "      <th></th>\n",
       "    </tr>\n",
       "  </thead>\n",
       "  <tbody>\n",
       "    <tr>\n",
       "      <th>2021-01-23 00:00:00</th>\n",
       "      <td>-1.290736</td>\n",
       "    </tr>\n",
       "    <tr>\n",
       "      <th>2021-01-23 01:00:00</th>\n",
       "      <td>-1.290736</td>\n",
       "    </tr>\n",
       "    <tr>\n",
       "      <th>2021-01-23 02:00:00</th>\n",
       "      <td>-1.290736</td>\n",
       "    </tr>\n",
       "    <tr>\n",
       "      <th>2021-01-23 03:00:00</th>\n",
       "      <td>-1.290736</td>\n",
       "    </tr>\n",
       "    <tr>\n",
       "      <th>2021-01-23 04:00:00</th>\n",
       "      <td>-1.290736</td>\n",
       "    </tr>\n",
       "    <tr>\n",
       "      <th>...</th>\n",
       "      <td>...</td>\n",
       "    </tr>\n",
       "    <tr>\n",
       "      <th>2022-08-05 18:00:00</th>\n",
       "      <td>1.471583</td>\n",
       "    </tr>\n",
       "    <tr>\n",
       "      <th>2022-08-05 19:00:00</th>\n",
       "      <td>1.471583</td>\n",
       "    </tr>\n",
       "    <tr>\n",
       "      <th>2022-08-05 20:00:00</th>\n",
       "      <td>1.471583</td>\n",
       "    </tr>\n",
       "    <tr>\n",
       "      <th>2022-08-05 21:00:00</th>\n",
       "      <td>0.019739</td>\n",
       "    </tr>\n",
       "    <tr>\n",
       "      <th>2022-08-05 22:00:00</th>\n",
       "      <td>0.019739</td>\n",
       "    </tr>\n",
       "  </tbody>\n",
       "</table>\n",
       "<p>13439 rows × 1 columns</p>\n",
       "</div>"
      ],
      "text/plain": [
       "                     1 AV_ent\n",
       "TIME                         \n",
       "2021-01-23 00:00:00 -1.290736\n",
       "2021-01-23 01:00:00 -1.290736\n",
       "2021-01-23 02:00:00 -1.290736\n",
       "2021-01-23 03:00:00 -1.290736\n",
       "2021-01-23 04:00:00 -1.290736\n",
       "...                       ...\n",
       "2022-08-05 18:00:00  1.471583\n",
       "2022-08-05 19:00:00  1.471583\n",
       "2022-08-05 20:00:00  1.471583\n",
       "2022-08-05 21:00:00  0.019739\n",
       "2022-08-05 22:00:00  0.019739\n",
       "\n",
       "[13439 rows x 1 columns]"
      ]
     },
     "execution_count": 9,
     "metadata": {},
     "output_type": "execute_result"
    }
   ],
   "source": [
    "forecast_lead = 1\n",
    "df_train[['1 AV_ent']].iloc[:-forecast_lead,:] # all but the last 'forecast_lead' samples so that there is a y associated"
   ]
  },
  {
   "cell_type": "code",
   "execution_count": null,
   "id": "ee6963a4",
   "metadata": {},
   "outputs": [],
   "source": [
    "df_train[['1 AV_ent']].iloc[1,:]"
   ]
  },
  {
   "cell_type": "code",
   "execution_count": null,
   "id": "d4bb8726",
   "metadata": {},
   "outputs": [],
   "source": [
    "test_dataset.__len__()"
   ]
  },
  {
   "cell_type": "code",
   "execution_count": null,
   "id": "d70d2640",
   "metadata": {},
   "outputs": [],
   "source": [
    "train_dataset.__getitem__(25)[0].shape"
   ]
  },
  {
   "cell_type": "code",
   "execution_count": null,
   "id": "557c0bdf",
   "metadata": {},
   "outputs": [],
   "source": [
    "train_dataset.__getitem__(25)[1].mean()"
   ]
  },
  {
   "cell_type": "code",
   "execution_count": null,
   "id": "31b7b466-5be1-4660-b77e-9320b41be5cb",
   "metadata": {},
   "outputs": [],
   "source": [
    "test_dataset.__getitem__(25)[1].mean()"
   ]
  },
  {
   "cell_type": "code",
   "execution_count": null,
   "id": "fd0bf64b-6a9d-4ea4-b4f2-5a303d4d2b3a",
   "metadata": {},
   "outputs": [],
   "source": [
    "batch_size"
   ]
  },
  {
   "cell_type": "code",
   "execution_count": 10,
   "id": "a9950f91-7341-4f79-8069-622a28cc6dc9",
   "metadata": {},
   "outputs": [],
   "source": [
    "train_loader = DataLoader(train_dataset, batch_size=batch_size, shuffle=True)\n",
    "test_loader = DataLoader(test_dataset, batch_size=batch_size, shuffle=False)"
   ]
  },
  {
   "cell_type": "code",
   "execution_count": null,
   "id": "87fef8b1-d105-4e2c-9fcd-dd8914d548b5",
   "metadata": {},
   "outputs": [],
   "source": [
    "train_dataset.__len__()"
   ]
  },
  {
   "cell_type": "code",
   "execution_count": null,
   "id": "2d006417-1cbb-448a-aa28-d0cbc85ac840",
   "metadata": {
    "tags": []
   },
   "outputs": [],
   "source": [
    "#for X, y in train_loader:\n",
    "#    print(X.shape)\n",
    "#    print(y.shape)\n",
    "#    print(\"\")"
   ]
  },
  {
   "cell_type": "code",
   "execution_count": null,
   "id": "93c54b86-e387-4992-b9a3-3256e14570f3",
   "metadata": {},
   "outputs": [],
   "source": [
    "y"
   ]
  },
  {
   "cell_type": "code",
   "execution_count": null,
   "id": "1f3e89a3-bf6c-4eb4-83a5-6540535bac78",
   "metadata": {},
   "outputs": [],
   "source": [
    "X.shape"
   ]
  },
  {
   "cell_type": "code",
   "execution_count": null,
   "id": "cb8082ed-1adb-4d57-a0e7-2c2a4bfb0ffa",
   "metadata": {},
   "outputs": [],
   "source": [
    "df.shape"
   ]
  },
  {
   "cell_type": "code",
   "execution_count": null,
   "id": "14dbe49b-bc56-4f49-b131-af6f400c2325",
   "metadata": {},
   "outputs": [],
   "source": [
    "y.shape"
   ]
  },
  {
   "cell_type": "code",
   "execution_count": 11,
   "id": "0183c275",
   "metadata": {},
   "outputs": [],
   "source": [
    "class LSTMRegression(nn.Module):\n",
    "    def __init__(self, num_features, hidden_units, num_layers=1,dropout=0):\n",
    "        super().__init__()\n",
    "        self.num_features = num_features\n",
    "        self.hidden_units = hidden_units\n",
    "        self.num_layers = num_layers\n",
    "        self.dropout = dropout\n",
    "        self.lstm = nn.LSTM(\n",
    "            input_size=num_features,\n",
    "            hidden_size=hidden_units,\n",
    "            batch_first=True,\n",
    "            num_layers=self.num_layers,\n",
    "            dropout=self.dropout\n",
    "        )\n",
    "        self.linear = nn.Linear(in_features=self.hidden_units, out_features=self.num_features)\n",
    "        \n",
    "    def forward(self,x):\n",
    "        batch_size = x.shape[0]\n",
    "        h0 = torch.zeros(self.num_layers, batch_size, self.hidden_units).requires_grad_()\n",
    "        c0 = torch.zeros(self.num_layers, batch_size, self.hidden_units).requires_grad_()\n",
    "        _,(hn,_) = self.lstm(x, (h0, c0))\n",
    "        out = self.linear(hn[0])#.flatten()\n",
    "        return out\n",
    "        \n",
    "model = LSTMRegression(\n",
    "        num_features=len(features), \n",
    "        hidden_units=num_hidden_units,\n",
    "        num_layers=num_layers,\n",
    "        dropout=dropout\n",
    "        )#.to(device=device)"
   ]
  },
  {
   "cell_type": "code",
   "execution_count": 14,
   "id": "dfbdf961",
   "metadata": {},
   "outputs": [],
   "source": [
    "def train_model(data_loader, model, loss_function, optimizer, device=torch.device(\"mps\")):\n",
    "    num_batches = len(data_loader)\n",
    "    total_loss = 0\n",
    "    model.train()\n",
    "    \n",
    "    for X, y in data_loader:\n",
    "        #X = X.to(device=device)\n",
    "        #y = y.to(device=device)\n",
    "        output = model(X)\n",
    "        loss = loss_function(output, y)\n",
    "        optimizer.zero_grad()\n",
    "        loss.backward()\n",
    "        optimizer.step()\n",
    "        total_loss += loss.item()\n",
    "        \n",
    "    avg_loss = total_loss/num_batches\n",
    "    #print(f\"Train loss: {avg_loss}\")\n",
    "    return avg_loss"
   ]
  },
  {
   "cell_type": "code",
   "execution_count": 15,
   "id": "5b67800e-c622-44d5-a308-5a2c2c7c6133",
   "metadata": {},
   "outputs": [],
   "source": [
    "model = LSTMRegression(\n",
    "        num_features=len(features), \n",
    "        hidden_units=num_hidden_units,\n",
    "        num_layers=num_layers,\n",
    "        dropout=dropout\n",
    "        )#.to(device=device)\n",
    "\n",
    "loss_function = nn.MSELoss()\n",
    "optimizer = torch.optim.Adam(model.parameters(), lr=learning_rate)\n",
    "\n",
    "avg_loss = train_model(train_loader, model, loss_function, optimizer=optimizer)"
   ]
  },
  {
   "cell_type": "code",
   "execution_count": 16,
   "id": "6b840da3",
   "metadata": {},
   "outputs": [
    {
     "data": {
      "text/plain": [
       "1.00462486743927"
      ]
     },
     "execution_count": 16,
     "metadata": {},
     "output_type": "execute_result"
    }
   ],
   "source": [
    "avg_loss"
   ]
  },
  {
   "cell_type": "code",
   "execution_count": 17,
   "id": "d1abc924",
   "metadata": {},
   "outputs": [],
   "source": [
    "test_score = score_model(test_loader, model, loss_function)"
   ]
  },
  {
   "cell_type": "code",
   "execution_count": 18,
   "id": "809b2444",
   "metadata": {},
   "outputs": [
    {
     "data": {
      "text/plain": [
       "1576.0388508785338"
      ]
     },
     "execution_count": 18,
     "metadata": {},
     "output_type": "execute_result"
    }
   ],
   "source": [
    "test_score"
   ]
  },
  {
   "cell_type": "code",
   "execution_count": 19,
   "id": "4404d640",
   "metadata": {},
   "outputs": [
    {
     "data": {
      "text/plain": [
       "MSELoss()"
      ]
     },
     "execution_count": 19,
     "metadata": {},
     "output_type": "execute_result"
    }
   ],
   "source": [
    "loss_function"
   ]
  },
  {
   "cell_type": "code",
   "execution_count": 21,
   "id": "414c52b7",
   "metadata": {},
   "outputs": [
    {
     "ename": "NameError",
     "evalue": "name 'X' is not defined",
     "output_type": "error",
     "traceback": [
      "\u001b[0;31m---------------------------------------------------------------------------\u001b[0m",
      "\u001b[0;31mNameError\u001b[0m                                 Traceback (most recent call last)",
      "Cell \u001b[0;32mIn[21], line 1\u001b[0m\n\u001b[0;32m----> 1\u001b[0m y_star \u001b[39m=\u001b[39m model(X)\n\u001b[1;32m      2\u001b[0m y_star\u001b[39m.\u001b[39mshape\n",
      "\u001b[0;31mNameError\u001b[0m: name 'X' is not defined"
     ]
    }
   ],
   "source": [
    "y_star = model(X)\n",
    "y_star.shape"
   ]
  },
  {
   "cell_type": "code",
   "execution_count": null,
   "id": "39acd4ff",
   "metadata": {},
   "outputs": [],
   "source": [
    "loss_function(y_star, y).item()"
   ]
  },
  {
   "cell_type": "code",
   "execution_count": null,
   "id": "1f10246f",
   "metadata": {},
   "outputs": [],
   "source": [
    "y_star"
   ]
  },
  {
   "cell_type": "code",
   "execution_count": null,
   "id": "a2287645",
   "metadata": {},
   "outputs": [],
   "source": []
  }
 ],
 "metadata": {
  "kernelspec": {
   "display_name": "py310_ts",
   "language": "python",
   "name": "python3"
  },
  "language_info": {
   "codemirror_mode": {
    "name": "ipython",
    "version": 3
   },
   "file_extension": ".py",
   "mimetype": "text/x-python",
   "name": "python",
   "nbconvert_exporter": "python",
   "pygments_lexer": "ipython3",
   "version": "3.10.8"
  },
  "vscode": {
   "interpreter": {
    "hash": "cb957eda300f93a3dcd83d7a8650536b42d084e8690661aa95b5f0925d8cc35a"
   }
  }
 },
 "nbformat": 4,
 "nbformat_minor": 5
}
