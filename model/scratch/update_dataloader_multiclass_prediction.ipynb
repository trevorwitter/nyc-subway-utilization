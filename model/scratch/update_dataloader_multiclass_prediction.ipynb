{
 "cells": [
  {
   "cell_type": "code",
   "execution_count": null,
   "id": "d24bf3b0-9822-462b-a932-d3e0997a168e",
   "metadata": {},
   "outputs": [],
   "source": [
    "import pandas as pd\n",
    "import torch\n",
    "from torch import nn\n",
    "from torch.utils.data import Dataset,DataLoader\n",
    "import matplotlib.pyplot as plt\n",
    "import seaborn as sns"
   ]
  },
  {
   "cell_type": "code",
   "execution_count": null,
   "id": "c81b0f7a-f160-452d-8587-5e9697484c04",
   "metadata": {},
   "outputs": [],
   "source": [
    "df = pd.read_csv(\"../data/nyc_subway_turnstile_sample.csv\",index_col='time')\n",
    "df.shape"
   ]
  },
  {
   "cell_type": "code",
   "execution_count": null,
   "id": "b2b130be-59cd-4633-8d2c-7784394c320c",
   "metadata": {},
   "outputs": [],
   "source": [
    "def preprocess_data(df, forecast_lead=15, train_test_split=0.8):\n",
    "    features = list(df.columns)\n",
    "    #target = f\"{target_feature}_lead_{forecast_lead}\"\n",
    "\n",
    "    #df[target] = df[target_feature].shift(-forecast_lead)\n",
    "    #df = df.iloc[:-forecast_lead]\n",
    "\n",
    "    test_start = int(len(df) * train_test_split)\n",
    "\n",
    "    df_train = df.iloc[:test_start].copy()\n",
    "    df_test = df.iloc[test_start:].copy()\n",
    "\n",
    "    #target_mean = df_train[target].mean()\n",
    "    #target_stdev = df_train[target].std()\n",
    "\n",
    "    for c in df_train.columns:\n",
    "        mean = df_train[c].mean()\n",
    "        stdev = df_train[c].std()\n",
    "\n",
    "        df_train[c] = (df_train[c] - mean) / stdev\n",
    "        df_test[c] = (df_test[c] - mean) / stdev\n",
    "\n",
    "    return df_train, df_test, features"
   ]
  },
  {
   "cell_type": "code",
   "execution_count": null,
   "id": "b5a53f74-8c5f-49b2-9c1f-2b2b62624036",
   "metadata": {},
   "outputs": [],
   "source": [
    "class SequenceDataset(Dataset):\n",
    "    def __init__(self, dataframe, features, sequence_length=5, forecast_lead=15):\n",
    "        self.features = features\n",
    "        self.forecast_lead = forecast_lead\n",
    "        self.sequence_length = sequence_length\n",
    "        self.X = torch.tensor(dataframe[features].iloc[:-15,:].values).float()\n",
    "        self.y = torch.tensor(dataframe[features].iloc[self.forecast_lead:,:].values).float()\n",
    "    def __len__(self):\n",
    "        return self.X.shape[0]\n",
    "    \n",
    "    def __getitem__(self, i):\n",
    "        if i > self.sequence_length -1:\n",
    "            i_start = i - self.sequence_length +1\n",
    "            x = self.X[i_start:(i + 1), :]\n",
    "        else:\n",
    "            padding = self.X[0].repeat(self.sequence_length - i - 1, 1)\n",
    "            x = self.X[0:(i+1), :]\n",
    "            x = torch.cat((padding, x), 0)\n",
    "        #y = self.X[i + self.forecast_lead]\n",
    "        return x, self.y[i]"
   ]
  },
  {
   "cell_type": "code",
   "execution_count": null,
   "id": "69e81938-51af-4eb2-8ad3-4546a3253964",
   "metadata": {},
   "outputs": [],
   "source": [
    "SEQUENCE_LENGTH = 10\n",
    "FORECAST_LEAD = 5\n",
    "BATCH_SIZE = 32\n",
    "\n",
    "df_train, df_test, features = preprocess_data(df,\n",
    "                                              forecast_lead=FORECAST_LEAD,\n",
    "                                              train_test_split=0.8\n",
    "                                             )"
   ]
  },
  {
   "cell_type": "code",
   "execution_count": null,
   "id": "3f98d5dc-a04f-4428-a2e6-ab22ffd3cdd3",
   "metadata": {},
   "outputs": [],
   "source": [
    "df_train.shape"
   ]
  },
  {
   "cell_type": "code",
   "execution_count": null,
   "id": "c4924f66-41db-450d-8aec-2c4fc2a4d825",
   "metadata": {},
   "outputs": [],
   "source": [
    "train_dataset = SequenceDataset(df_train, \n",
    "                                features,\n",
    "                                sequence_length=SEQUENCE_LENGTH,\n",
    "                                forecast_lead=FORECAST_LEAD)\n",
    "\n",
    "test_dataset = SequenceDataset(df_test, \n",
    "                               features,\n",
    "                               sequence_length=SEQUENCE_LENGTH,\n",
    "                               forecast_lead=FORECAST_LEAD)"
   ]
  },
  {
   "cell_type": "code",
   "execution_count": null,
   "id": "a3bc8aa6-7c14-411a-ab6f-c9bc0a275c32",
   "metadata": {},
   "outputs": [],
   "source": [
    "train_loader = DataLoader(train_dataset, batch_size=BATCH_SIZE, shuffle=True)\n",
    "test_loader = DataLoader(test_dataset, batch_size=BATCH_SIZE, shuffle=False)"
   ]
  },
  {
   "cell_type": "code",
   "execution_count": null,
   "id": "2049b322-270a-4c4c-becb-540ac08d2669",
   "metadata": {},
   "outputs": [],
   "source": [
    "class LSTMRegression(nn.Module):\n",
    "    def __init__(self, num_features, hidden_units, num_layers=1,dropout=0):\n",
    "        super().__init__()\n",
    "        self.num_features = num_features\n",
    "        self.hidden_units = hidden_units\n",
    "        self.num_layers = num_layers\n",
    "        self.dropout = dropout\n",
    "        self.lstm = nn.LSTM(\n",
    "            input_size=num_features,\n",
    "            hidden_size=hidden_units,\n",
    "            batch_first=True,\n",
    "            num_layers=self.num_layers,\n",
    "            dropout=self.dropout\n",
    "        )\n",
    "        self.linear = nn.Linear(in_features=self.hidden_units, out_features=self.num_features)\n",
    "        \n",
    "    def forward(self,x):\n",
    "        batch_size = x.shape[0]\n",
    "        h0 = torch.zeros(self.num_layers, batch_size, self.hidden_units).requires_grad_()\n",
    "        c0 = torch.zeros(self.num_layers, batch_size, self.hidden_units).requires_grad_()\n",
    "        _,(hn,_) = self.lstm(x, (h0, c0))\n",
    "        out = self.linear(hn[0])#.flatten()\n",
    "        return out"
   ]
  },
  {
   "cell_type": "code",
   "execution_count": null,
   "id": "2b76e99d-daa3-4425-bee6-a566f243bf93",
   "metadata": {},
   "outputs": [],
   "source": [
    "model = LSTMRegression(\n",
    "        num_features=len(features), \n",
    "        hidden_units=2,\n",
    "        num_layers=1,\n",
    "        dropout=0\n",
    "        )#.to(device=device)"
   ]
  },
  {
   "cell_type": "code",
   "execution_count": null,
   "id": "f4bda642-7a59-4efb-bd2f-3193ad23bd66",
   "metadata": {},
   "outputs": [],
   "source": [
    "loss_function = nn.MSELoss()\n",
    "optimizer = torch.optim.Adam(model.parameters(), lr=5e-5)"
   ]
  },
  {
   "cell_type": "code",
   "execution_count": null,
   "id": "1ae1bc2a-8054-471b-bf05-4ad2df804bba",
   "metadata": {},
   "outputs": [],
   "source": [
    "def score_model(data_loader, model, loss_function, device=torch.device(\"mps\")):\n",
    "    num_batches = len(data_loader)\n",
    "    total_loss = 0\n",
    "    #model = model.to(device)\n",
    "    model.eval()\n",
    "    with torch.no_grad():\n",
    "        for X, y in data_loader:\n",
    "            #X = X.to(device)\n",
    "            #y = y.to(device)\n",
    "            output = model(X)\n",
    "            total_loss += loss_function(output, y).item()\n",
    "    avg_loss = total_loss/num_batches\n",
    "    #print(f\"Test loss: {avg_loss}\")\n",
    "    return avg_loss"
   ]
  },
  {
   "cell_type": "code",
   "execution_count": null,
   "id": "74292918-922d-4b5b-86db-ab1c17440e7b",
   "metadata": {},
   "outputs": [],
   "source": [
    "test_score = score_model(test_loader, model, loss_function)"
   ]
  },
  {
   "cell_type": "code",
   "execution_count": null,
   "id": "9c7716c3-3e94-4b61-b9d4-2e6fbe9b7bbe",
   "metadata": {},
   "outputs": [],
   "source": [
    "test_score"
   ]
  },
  {
   "cell_type": "code",
   "execution_count": null,
   "id": "b1b1ba54-ca99-4faa-9bf4-45e7034dc2bd",
   "metadata": {},
   "outputs": [],
   "source": [
    "def train_model(data_loader, model, loss_function, optimizer, device=torch.device(\"mps\")):\n",
    "    num_batches = len(data_loader)\n",
    "    total_loss = 0\n",
    "    model.train()\n",
    "    \n",
    "    for X, y in data_loader:\n",
    "        #X = X.to(device=device)\n",
    "        #y = y.to(device=device)\n",
    "        output = model(X)\n",
    "        loss = loss_function(output, y)\n",
    "        optimizer.zero_grad()\n",
    "        loss.backward()\n",
    "        optimizer.step()\n",
    "        total_loss += loss.item()\n",
    "    avg_loss = total_loss/num_batches\n",
    "    #print(f\"Train loss: {avg_loss}\")\n",
    "    return avg_loss"
   ]
  },
  {
   "cell_type": "code",
   "execution_count": null,
   "id": "448136f8-8a16-42b8-9098-78ff09a06547",
   "metadata": {},
   "outputs": [],
   "source": [
    "num_epochs = 200\n",
    "for ix_epoch in range(num_epochs):\n",
    "    #logger.info(f\"Epoch: {ix_epoch}\")\n",
    "    train_score = train_model(train_loader, model, loss_function, optimizer=optimizer)\n",
    "    #tb.add_scalar(\"Train Loss\", train_score, ix_epoch)\n",
    "    #logger.info(f\"Train score: {train_score}\")\n",
    "    test_score = score_model(test_loader, model, loss_function)\n",
    "    #tb.add_scalar(\"Test Loss\", test_score, ix_epoch)\n",
    "    #logger.info(f\"Test score: {test_score}\")\n",
    "    print(f\"Epoch {ix_epoch} -- Train Loss: {train_score}; Test Loss: {test_score}\")"
   ]
  },
  {
   "cell_type": "code",
   "execution_count": null,
   "id": "d45a0ccd-d63e-44a7-8b45-4a00e1a7abc3",
   "metadata": {},
   "outputs": [],
   "source": [
    "def predict(data_loader, model):\n",
    "\n",
    "    output = torch.tensor([])\n",
    "    model.eval()\n",
    "    with torch.no_grad():\n",
    "        for X, _ in data_loader:\n",
    "            y_star = model(X)\n",
    "            output = torch.cat((output, y_star), 0)\n",
    "    return output\n",
    "\n",
    "def get_predictions(data_loader,model, df_test, target):\n",
    "    ystar_col = \"Model Forecast\"\n",
    "    #df_train[ystar_col] = predict(train_eval_loader, model).numpy()\n",
    "    df_test[ystar_col] = predict(data_loader, model).numpy()\n",
    "\n",
    "    df_out = df_test[[target, ystar_col]]\n",
    "\n",
    "    #for c in df_out.columns:\n",
    "    #    df_out[c] = df_out[c] * target_stdev + target_mean\n",
    "    \n",
    "    return df_out"
   ]
  },
  {
   "cell_type": "code",
   "execution_count": null,
   "id": "eb0d6ff1-f536-4570-a198-5af7ad54e25e",
   "metadata": {},
   "outputs": [],
   "source": [
    "preds = predict(test_loader, model)"
   ]
  },
  {
   "cell_type": "code",
   "execution_count": null,
   "id": "ea4aa805-837b-4467-ae46-6b5d02e004b3",
   "metadata": {},
   "outputs": [],
   "source": [
    "preds.shape"
   ]
  },
  {
   "cell_type": "code",
   "execution_count": null,
   "id": "4377815c-ab26-4fda-ad65-6a990e3f6047",
   "metadata": {},
   "outputs": [],
   "source": [
    "def plot_predictions(df_preds):\n",
    "    fig_dims = (40, 10)\n",
    "    fig, ax = plt.subplots(figsize=fig_dims)\n",
    "    sns.lineplot(data=df_preds,ax=ax)\n",
    "    plt.show()"
   ]
  },
  {
   "cell_type": "code",
   "execution_count": 1,
   "id": "172e6f51-f351-4310-933f-e6ef11398861",
   "metadata": {},
   "outputs": [],
   "source": [
    "def get_predictions(data_loader, model, df_test):\n",
    "    preds = predict(data_loader, model)\n",
    "    df_preds = pd.DataFrame()\n",
    "    df_preds['y_pred'] = preds[:,0]\n",
    "    df_preds['y_true'] = [x for x in df_test.iloc[:-15,0]]\n",
    "    return df_preds"
   ]
  },
  {
   "cell_type": "code",
   "execution_count": null,
   "id": "365b9a92-0fec-4c0a-b2ca-8f5b4679e6e4",
   "metadata": {},
   "outputs": [],
   "source": [
    "plot_predictions(df_preds.head(410))"
   ]
  },
  {
   "cell_type": "code",
   "execution_count": null,
   "id": "3fed61ae-0f4f-41ad-be0d-5b9f29ca0f2b",
   "metadata": {},
   "outputs": [],
   "source": []
  }
 ],
 "metadata": {
  "kernelspec": {
   "display_name": "Python 3 (ipykernel)",
   "language": "python",
   "name": "python3"
  },
  "language_info": {
   "codemirror_mode": {
    "name": "ipython",
    "version": 3
   },
   "file_extension": ".py",
   "mimetype": "text/x-python",
   "name": "python",
   "nbconvert_exporter": "python",
   "pygments_lexer": "ipython3",
   "version": "3.9.12"
  }
 },
 "nbformat": 4,
 "nbformat_minor": 5
}
