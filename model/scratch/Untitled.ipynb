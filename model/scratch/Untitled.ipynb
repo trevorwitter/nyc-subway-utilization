{
 "cells": [
  {
   "cell_type": "code",
   "execution_count": 1,
   "id": "3677d611-9fbc-4ccf-b81d-ea5112c9d9f4",
   "metadata": {},
   "outputs": [],
   "source": [
    "import os\n",
    "import argparse\n",
    "import pandas as pd\n",
    "import torch\n",
    "from torch import nn\n",
    "from torch.utils.data import Dataset, DataLoader\n",
    "from utils import preprocess_data, SequenceDataset, train_model, score_model, log\n",
    "from model import LSTMRegression\n",
    "from torch.utils.tensorboard import SummaryWriter"
   ]
  },
  {
   "cell_type": "code",
   "execution_count": 2,
   "id": "76718b37-dbfa-49a5-a08e-6e88728f59d4",
   "metadata": {},
   "outputs": [],
   "source": [
    "torch.manual_seed(101)\n",
    "\n",
    "filename = os.listdir(path='./data/')[0]\n",
    "data = f'data/{filename}'\n",
    "\n",
    "df = pd.read_csv(\n",
    "    data,\n",
    "    index_col='created_at'\n",
    "    )\n",
    "target_feature = 'Austin'\n",
    "forecast_lead = 15\n",
    "sequence_length = 30\n",
    "learning_rate = 5e-5\n",
    "hidden_units = 16\n",
    "num_layers = 1\n",
    "dropout=0\n",
    "num_epochs = 2\n",
    "batch_size = 32\n",
    "num_hidden_units = 16"
   ]
  },
  {
   "cell_type": "code",
   "execution_count": 3,
   "id": "9328dfb7-39fb-4f43-a4c2-f7c06246c51a",
   "metadata": {},
   "outputs": [],
   "source": [
    "use_cuda = torch.cuda.is_available()\n",
    "device = torch.device(\"cuda\" if use_cuda else \"cpu\")\n",
    "#logger = log(path=\"logs/\",file=\"timeseries_training.logs\")\n",
    "\n",
    "df_train, df_test, features, target = preprocess_data(\n",
    "    df,\n",
    "    target_feature, \n",
    "    forecast_lead=forecast_lead\n",
    "    )\n",
    "\n",
    "train_dataset = SequenceDataset(\n",
    "    df_train,\n",
    "    target=target,\n",
    "    features=features,\n",
    "    sequence_length=sequence_length\n",
    "    )\n",
    "\n",
    "test_dataset = SequenceDataset(\n",
    "    df_test,\n",
    "    target=target,\n",
    "    features=features,\n",
    "    sequence_length=sequence_length\n",
    "    )\n",
    "\n",
    "train_loader = DataLoader(train_dataset, batch_size=batch_size, shuffle=True)\n",
    "test_loader = DataLoader(test_dataset, batch_size=batch_size, shuffle=False)"
   ]
  },
  {
   "cell_type": "code",
   "execution_count": 5,
   "id": "d07ec5a1-6342-411a-8ff9-636c99ea8282",
   "metadata": {},
   "outputs": [],
   "source": [
    "seqs, labels = next(iter(test_loader))"
   ]
  },
  {
   "cell_type": "code",
   "execution_count": 7,
   "id": "7146b56e-fda7-4a07-ae52-122b57e3cb0f",
   "metadata": {},
   "outputs": [],
   "source": [
    "tb = SummaryWriter()\n",
    "model = LSTMRegression(\n",
    "    num_features=len(features), \n",
    "    hidden_units=num_hidden_units,\n",
    "    num_layers=num_layers,\n",
    "    dropout=dropout\n",
    "    )\n",
    "loss_function = nn.MSELoss()\n",
    "optimizer = torch.optim.Adam(model.parameters(), lr=learning_rate)\n",
    "test_score = score_model(test_loader, model, loss_function)\n",
    "seqs, labels = next(iter(test_loader))\n",
    "tb.add_graph(model,seqs)"
   ]
  },
  {
   "cell_type": "code",
   "execution_count": null,
   "id": "911f65be-29c3-4e6f-b30b-0b51d86e9b33",
   "metadata": {},
   "outputs": [],
   "source": [
    "tb = SummaryWriter()\n",
    "for ix_epoch in range(num_epochs):\n",
    "    print(ix_epoch)\n",
    "    #logger.info(f\"Epoch: {ix_epoch}\")\n",
    "    train_score = train_model(train_loader, model, loss_function, optimizer=optimizer)\n",
    "    tb.add_scalar(\"Train Loss\", train_score, ix_epoch)\n",
    "    #logger.info(f\"Train score: {train_score}\")\n",
    "    test_score = score_model(test_loader, model, loss_function)\n",
    "    tb.add_scalar(\"Test Loss\", test_score, ix_epoch)\n",
    "    #logger.info(f\"Test score: {test_score}\")\n",
    "tb.close()\n",
    "\n",
    "\n",
    "model_name = f\"LSTM_{num_hidden_units}unit_{num_layers}layer_{sequence_length}seq.pt\"\n",
    "torch.save(model, f\"models/{model_name}\")\n",
    "#logger.info(f\"model saved to: models/{model_name}\")"
   ]
  },
  {
   "cell_type": "code",
   "execution_count": null,
   "id": "1366bc53-b56f-48b5-9afc-17d9ad97b010",
   "metadata": {},
   "outputs": [],
   "source": [
    "torch.manual_seed(101)\n",
    "args = arg_parse()\n",
    "\n",
    "filename = os.listdir(path='./data/')[0]\n",
    "data = f'data/{filename}'\n",
    "\n",
    "df = pd.read_csv(\n",
    "    data,\n",
    "    index_col='created_at'\n",
    "    )\n",
    "\n",
    "model = train(\n",
    "    df\n",
    "    )"
   ]
  }
 ],
 "metadata": {
  "kernelspec": {
   "display_name": "Python 3 (ipykernel)",
   "language": "python",
   "name": "python3"
  },
  "language_info": {
   "codemirror_mode": {
    "name": "ipython",
    "version": 3
   },
   "file_extension": ".py",
   "mimetype": "text/x-python",
   "name": "python",
   "nbconvert_exporter": "python",
   "pygments_lexer": "ipython3",
   "version": "3.9.12"
  }
 },
 "nbformat": 4,
 "nbformat_minor": 5
}
