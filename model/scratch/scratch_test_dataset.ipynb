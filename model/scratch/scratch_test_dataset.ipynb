{
 "cells": [
  {
   "cell_type": "code",
   "execution_count": 1,
   "metadata": {},
   "outputs": [],
   "source": [
    "import os\n",
    "import argparse\n",
    "import pandas as pd\n",
    "import torch\n",
    "from torch import nn\n",
    "from torch.utils.data import Dataset, DataLoader\n",
    "from utils import preprocess_data, SequenceDataset, train_model, score_model, log, get_predictions, plot_predictions\n",
    "from model import LSTMRegression"
   ]
  },
  {
   "cell_type": "code",
   "execution_count": 4,
   "metadata": {},
   "outputs": [],
   "source": [
    "forecast_lead=0\n",
    "batch_size=32\n",
    "sequence_length=30\n",
    "learning_rate = 5e-5\n",
    "num_hidden_units=16\n",
    "num_layers=1\n",
    "dropout=0\n",
    "num_epochs=2"
   ]
  },
  {
   "cell_type": "code",
   "execution_count": 2,
   "metadata": {},
   "outputs": [
    {
     "data": {
      "text/plain": [
       "(16800, 752)"
      ]
     },
     "execution_count": 2,
     "metadata": {},
     "output_type": "execute_result"
    }
   ],
   "source": [
    "df = pd.read_parquet(\"../data/mta_subway_221231_100wk_dbscan.parquet\")\n",
    "df = df.drop(\n",
    "    [\n",
    "        \"KEW GARDENS_ent\", \n",
    "        \"KEW GARDENS_ex\", \n",
    "        \"15 ST-PROSPECT_ent\", \n",
    "        \"15 ST-PROSPECT_ex\", \n",
    "        \"161/YANKEE STAD_ent\",\n",
    "        \"161/YANKEE STAD_ex\"\n",
    "        ],\n",
    "    axis=1)\n",
    "df = df.fillna(0)\n",
    "df.shape"
   ]
  },
  {
   "cell_type": "code",
   "execution_count": 5,
   "metadata": {},
   "outputs": [],
   "source": [
    "df_train, df_test, features = preprocess_data(\n",
    "        df,\n",
    "        #target_feature, \n",
    "        forecast_lead=forecast_lead,\n",
    "        train_test_split=0.8\n",
    "        )"
   ]
  },
  {
   "cell_type": "code",
   "execution_count": 10,
   "metadata": {},
   "outputs": [
    {
     "data": {
      "text/plain": [
       "JFK JAMAICA CT1_ent    25050.295740\n",
       "ATL AV-BARCLAY_ex       1819.215414\n",
       "ATL AV-BARCLAY_ent      1275.062639\n",
       "JFK JAMAICA CT1_ex      1136.226094\n",
       "LORIMER ST_ex            667.241890\n",
       "                           ...     \n",
       "121 ST_ex                 -0.052161\n",
       "121 ST_ent                -0.055217\n",
       "NEWARK C_ent              -0.066150\n",
       "TWENTY THIRD ST_ex        -0.101680\n",
       "ST. GEORGE_ent            -0.130241\n",
       "Length: 752, dtype: float64"
      ]
     },
     "execution_count": 10,
     "metadata": {},
     "output_type": "execute_result"
    }
   ],
   "source": [
    "df_test.max().sort_values(ascending=False)"
   ]
  },
  {
   "cell_type": "code",
   "execution_count": 12,
   "metadata": {},
   "outputs": [
    {
     "data": {
      "text/plain": [
       "<AxesSubplot:xlabel='TIME'>"
      ]
     },
     "execution_count": 12,
     "metadata": {},
     "output_type": "execute_result"
    },
    {
     "data": {
      "image/png": "[encoded data removed]",
      "text/plain": [
       "<Figure size 432x288 with 1 Axes>"
      ]
     },
     "metadata": {
      "needs_background": "light"
     },
     "output_type": "display_data"
    }
   ],
   "source": [
    "df_test['JFK JAMAICA CT1_ent'].plot()"
   ]
  },
  {
   "cell_type": "code",
   "execution_count": 13,
   "metadata": {},
   "outputs": [
    {
     "data": {
      "text/plain": [
       "<AxesSubplot:xlabel='TIME'>"
      ]
     },
     "execution_count": 13,
     "metadata": {},
     "output_type": "execute_result"
    },
    {
     "data": {
      "image/png": "[encoded data removed]",
      "text/plain": [
       "<Figure size 432x288 with 1 Axes>"
      ]
     },
     "metadata": {
      "needs_background": "light"
     },
     "output_type": "display_data"
    }
   ],
   "source": [
    "df_test['ATL AV-BARCLAY_ex'].plot()"
   ]
  },
  {
   "cell_type": "code",
   "execution_count": null,
   "metadata": {},
   "outputs": [],
   "source": []
  }
 ],
 "metadata": {
  "kernelspec": {
   "display_name": "py39_arm64",
   "language": "python",
   "name": "python3"
  },
  "language_info": {
   "codemirror_mode": {
    "name": "ipython",
    "version": 3
   },
   "file_extension": ".py",
   "mimetype": "text/x-python",
   "name": "python",
   "nbconvert_exporter": "python",
   "pygments_lexer": "ipython3",
   "version": "3.9.12"
  },
  "orig_nbformat": 4,
  "vscode": {
   "interpreter": {
    "hash": "b8ba2b5a53a9f00d5598bfdd822aefe61df090c71b96176ac03fcaef6511e5c6"
   }
  }
 },
 "nbformat": 4,
 "nbformat_minor": 2
}
