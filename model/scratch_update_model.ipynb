{
 "cells": [
  {
   "cell_type": "code",
   "execution_count": 1,
   "id": "05f6fe54-07ca-4737-a5ff-c42420bd3fec",
   "metadata": {},
   "outputs": [],
   "source": [
    "import os\n",
    "import argparse\n",
    "import pandas as pd\n",
    "import torch\n",
    "from torch import nn\n",
    "from torch.utils.data import Dataset, DataLoader\n",
    "from utils import preprocess_data, SequenceDataset, train_model, score_model, log, get_predictions, plot_predictions\n",
    "from model import LSTMRegression"
   ]
  },
  {
   "cell_type": "code",
   "execution_count": null,
   "id": "3dc447a0-666c-4884-b0f6-74f2a8bbb32c",
   "metadata": {},
   "outputs": [],
   "source": [
    "#df = "
   ]
  },
  {
   "cell_type": "code",
   "execution_count": null,
   "id": "5922d55f-aa58-4da8-a06f-017711d6fc4b",
   "metadata": {},
   "outputs": [],
   "source": [
    "target_feature, \n",
    "forecast_lead=15,\n",
    "batch_size=32,\n",
    "sequence_length=30,\n",
    "learning_rate = 5e-5,\n",
    "num_hidden_units=16,\n",
    "num_layers=1,\n",
    "dropout=0,\n",
    "num_epochs=2"
   ]
  }
 ],
 "metadata": {
  "kernelspec": {
   "display_name": "Python 3 (ipykernel)",
   "language": "python",
   "name": "python3"
  },
  "language_info": {
   "codemirror_mode": {
    "name": "ipython",
    "version": 3
   },
   "file_extension": ".py",
   "mimetype": "text/x-python",
   "name": "python",
   "nbconvert_exporter": "python",
   "pygments_lexer": "ipython3",
   "version": "3.9.12"
  }
 },
 "nbformat": 4,
 "nbformat_minor": 5
}
