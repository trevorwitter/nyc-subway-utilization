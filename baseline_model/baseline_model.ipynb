{
 "cells": [
  {
   "cell_type": "code",
   "execution_count": 1,
   "metadata": {},
   "outputs": [
    {
     "ename": "ImportError",
     "evalue": "cannot import name 'TimeSeries' from 'darts' (unknown location)",
     "output_type": "error",
     "traceback": [
      "\u001b[0;31m---------------------------------------------------------------------------\u001b[0m",
      "\u001b[0;31mImportError\u001b[0m                               Traceback (most recent call last)",
      "Cell \u001b[0;32mIn[1], line 1\u001b[0m\n\u001b[0;32m----> 1\u001b[0m \u001b[39mfrom\u001b[39;00m \u001b[39mdarts\u001b[39;00m \u001b[39mimport\u001b[39;00m TimeSeries\n\u001b[1;32m      2\u001b[0m \u001b[39mfrom\u001b[39;00m \u001b[39mdarts\u001b[39;00m\u001b[39m.\u001b[39;00m\u001b[39mmodels\u001b[39;00m \u001b[39mimport\u001b[39;00m (\n\u001b[1;32m      3\u001b[0m     NaiveSeasonal,\n\u001b[1;32m      4\u001b[0m     NaiveMean,\n\u001b[0;32m   (...)\u001b[0m\n\u001b[1;32m     10\u001b[0m     FFT\n\u001b[1;32m     11\u001b[0m )\n\u001b[1;32m     13\u001b[0m \u001b[39mfrom\u001b[39;00m \u001b[39mdarts\u001b[39;00m\u001b[39m.\u001b[39;00m\u001b[39mmetrics\u001b[39;00m \u001b[39mimport\u001b[39;00m mase, mse, mae, ope\n",
      "\u001b[0;31mImportError\u001b[0m: cannot import name 'TimeSeries' from 'darts' (unknown location)"
     ]
    }
   ],
   "source": [
    "from darts import TimeSeries\n",
    "from darts.models import (\n",
    "    NaiveSeasonal,\n",
    "    NaiveMean,\n",
    "    NaiveDrift,\n",
    "    ExponentialSmoothing,\n",
    "    AutoARIMA,\n",
    "    ARIMA,\n",
    "    Theta,\n",
    "    FFT\n",
    ")\n",
    "\n",
    "from darts.metrics import mase, mse, mae, ope"
   ]
  },
  {
   "cell_type": "code",
   "execution_count": null,
   "metadata": {},
   "outputs": [],
   "source": []
  }
 ],
 "metadata": {
  "kernelspec": {
   "display_name": "Python 3.10.8 ('py310_ts')",
   "language": "python",
   "name": "python3"
  },
  "language_info": {
   "codemirror_mode": {
    "name": "ipython",
    "version": 3
   },
   "file_extension": ".py",
   "mimetype": "text/x-python",
   "name": "python",
   "nbconvert_exporter": "python",
   "pygments_lexer": "ipython3",
   "version": "3.10.8"
  },
  "orig_nbformat": 4,
  "vscode": {
   "interpreter": {
    "hash": "cb957eda300f93a3dcd83d7a8650536b42d084e8690661aa95b5f0925d8cc35a"
   }
  }
 },
 "nbformat": 4,
 "nbformat_minor": 2
}
