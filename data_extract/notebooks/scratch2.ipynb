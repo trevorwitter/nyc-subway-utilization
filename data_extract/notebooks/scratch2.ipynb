{
 "cells": [
  {
   "cell_type": "code",
   "execution_count": 1,
   "id": "c3b21d18-593d-4b1c-800c-a57d939ce616",
   "metadata": {},
   "outputs": [],
   "source": [
    "import numpy as np\n",
    "import datetime\n",
    "import pandas as pd\n",
    "import matplotlib.pyplot as plt\n",
    "%matplotlib inline\n",
    "\n",
    "from utils import (get_dates, \n",
    "                   get_files, \n",
    "                   extract_mta_data,\n",
    "                   resample_counts,\n",
    "                   get_entries_exits,\n",
    "                  )"
   ]
  },
  {
   "cell_type": "code",
   "execution_count": 2,
   "id": "4ae91418-0491-4919-b782-bf917589be23",
   "metadata": {},
   "outputs": [],
   "source": [
    "def anomaly_replacement(df):\n",
    "    \"\"\"detects and replaces count anomalies\"\"\"\n",
    "    # make min_samples > 4 and change eps accordingly\n",
    "    df_out = pd.DataFrame()\n",
    "    for x in df.columns:\n",
    "        df[[x]] = df[[x]].fillna(method='bfill').fillna(method='ffill')\n",
    "        _df = df[[x]]\n",
    "        \n",
    "        dbscan = DBSCAN(eps=70, min_samples=4)\n",
    "        dbscan.fit(_df)\n",
    "        outliers = np.argwhere(dbscan.labels_ == -1).flatten()\n",
    "        _df.iloc[outliers,:] = np.nan\n",
    "        _df = _df.fillna(method='bfill').fillna(method='ffill')\n",
    "        df_out[x] = _df\n",
    "    return df_out"
   ]
  },
  {
   "cell_type": "code",
   "execution_count": null,
   "id": "b67bc7ef-1add-42a7-ba0f-59746884213d",
   "metadata": {},
   "outputs": [],
   "source": [
    "def get_entries_exits(df):\n",
    "    \"\"\"Returns dfs for entires and exits by station\"\"\"\n",
    "    df['ent'] = df[['ENTRIES',\n",
    "                    'STATION',\n",
    "                    'UNIT',\n",
    "                    'SCP',\n",
    "                    'C/A']].groupby(['STATION','UNIT','SCP','C/A']).diff()#.abs()\n",
    "    df['ex'] = df[['EXITS',\n",
    "                   'STATION',\n",
    "                   'UNIT',\n",
    "                   'SCP',\n",
    "                   'C/A']].groupby(['STATION','UNIT','SCP','C/A']).diff()#.abs()\n",
    "    df['ent'].loc[df['ent']< -100] = df['ENTRIES'].loc[df['ent']< -100]\n",
    "    df['ex'].loc[df['ex']< -100] = df['EXITS'].loc[df['ex']< -100]\n",
    "    df['ent'] = df['ent'].abs()\n",
    "    df['ex'] = df['ex'].abs()\n",
    "    df = df[['TIME','STATION','ent','ex']]\n",
    "    \n",
    "    #consider moving anomaly detection to here, prior to resample\n",
    "    \n",
    "    df1 = df[['TIME','STATION','ent','ex']].groupby(['STATION','TIME'])\\\n",
    "                                          .sum()\\\n",
    "                                          .reset_index()\\\n",
    "                                          .groupby('STATION')\\\n",
    "                                          .apply(resample_counts)\n",
    "    df1 = df1.reset_index()\n",
    "    \n",
    "    df_out_ent = df1.pivot(index='TIME',\n",
    "                           columns='STATION',\n",
    "                           values='ent')\n",
    "\n",
    "    df_out_ex = df1.pivot(index='TIME',\n",
    "                          columns='STATION',\n",
    "                          values='ex')\n",
    "    return df_out_ent, df_out_ex"
   ]
  },
  {
   "cell_type": "code",
   "execution_count": 13,
   "id": "25e56ffa-37a8-46fe-af88-6862891ea431",
   "metadata": {},
   "outputs": [],
   "source": [
    "def get_entries_exits2(df):\n",
    "    \"\"\"Returns dfs for entires and exits by station\"\"\"\n",
    "    df['ent'] = df[['ENTRIES',\n",
    "                    'STATION',\n",
    "                    'UNIT',\n",
    "                    'SCP',\n",
    "                    'C/A']].groupby(['STATION','UNIT','SCP','C/A']).diff()#.abs()\n",
    "    df['ex'] = df[['EXITS',\n",
    "                   'STATION',\n",
    "                   'UNIT',\n",
    "                   'SCP',\n",
    "                   'C/A']].groupby(['STATION','UNIT','SCP','C/A']).diff()#.abs()\n",
    "    #df['ent'].loc[df['ent']< -100] = df['ENTRIES'].loc[df['ent']< -100]\n",
    "    #df['ex'].loc[df['ex']< -100] = df['EXITS'].loc[df['ex']< -100]\n",
    "    df['ent'].loc[df['ent']< 0] = np.nan\n",
    "    df['ex'].loc[df['ex']< 0] = np.nan\n",
    "    #df['ent'] = df['ent'].abs()\n",
    "    #df['ex'] = df['ex'].abs()\n",
    "    df = df[['TIME','STATION','ent','ex']]\n",
    "    return df"
   ]
  },
  {
   "cell_type": "code",
   "execution_count": 14,
   "id": "3b00eb12-df4d-4d16-bed3-77053242794c",
   "metadata": {},
   "outputs": [
    {
     "name": "stderr",
     "output_type": "stream",
     "text": [
      "/Users/twitter/Desktop/Current Research/nyc_subway/v2/utils.py:44: FutureWarning: The frame.append method is deprecated and will be removed from pandas in a future version. Use pandas.concat instead.\n",
      "  df = df.append(df_)\n"
     ]
    },
    {
     "data": {
      "text/plain": [
       "(209629, 11)"
      ]
     },
     "execution_count": 14,
     "metadata": {},
     "output_type": "execute_result"
    }
   ],
   "source": [
    "start_date = \"220108\"\n",
    "weeks = 1\n",
    "\n",
    "df = extract_mta_data(start_date, weeks=weeks)\n",
    "df.shape"
   ]
  },
  {
   "cell_type": "code",
   "execution_count": 15,
   "id": "1003956f-2635-428b-b318-934e241a92f0",
   "metadata": {},
   "outputs": [
    {
     "name": "stderr",
     "output_type": "stream",
     "text": [
      "/var/folders/td/4jttxk_j59ngw4ck3xdp25th0000gn/T/ipykernel_64605/3312138972.py:15: SettingWithCopyWarning: \n",
      "A value is trying to be set on a copy of a slice from a DataFrame\n",
      "\n",
      "See the caveats in the documentation: https://pandas.pydata.org/pandas-docs/stable/user_guide/indexing.html#returning-a-view-versus-a-copy\n",
      "  df['ent'].loc[df['ent']< 0] = np.nan\n",
      "/var/folders/td/4jttxk_j59ngw4ck3xdp25th0000gn/T/ipykernel_64605/3312138972.py:16: SettingWithCopyWarning: \n",
      "A value is trying to be set on a copy of a slice from a DataFrame\n",
      "\n",
      "See the caveats in the documentation: https://pandas.pydata.org/pandas-docs/stable/user_guide/indexing.html#returning-a-view-versus-a-copy\n",
      "  df['ex'].loc[df['ex']< 0] = np.nan\n"
     ]
    },
    {
     "data": {
      "text/plain": [
       "(209629, 4)"
      ]
     },
     "execution_count": 15,
     "metadata": {},
     "output_type": "execute_result"
    }
   ],
   "source": [
    "df1 = get_entries_exits2(df)\n",
    "df1.shape"
   ]
  },
  {
   "cell_type": "code",
   "execution_count": 16,
   "id": "4961a5ba-c607-4247-986b-93c1f5ccff2c",
   "metadata": {},
   "outputs": [
    {
     "data": {
      "text/plain": [
       "481921.0"
      ]
     },
     "execution_count": 16,
     "metadata": {},
     "output_type": "execute_result"
    }
   ],
   "source": [
    "df1['ent'].max()"
   ]
  },
  {
   "cell_type": "code",
   "execution_count": 17,
   "id": "639c9e85-90ae-481f-8556-b90c0d17ee38",
   "metadata": {},
   "outputs": [
    {
     "data": {
      "text/plain": [
       "0.0"
      ]
     },
     "execution_count": 17,
     "metadata": {},
     "output_type": "execute_result"
    }
   ],
   "source": [
    "df1['ent'].min()"
   ]
  },
  {
   "cell_type": "code",
   "execution_count": null,
   "id": "bb90b89c-099c-43fa-95ec-673bb57546e5",
   "metadata": {},
   "outputs": [],
   "source": [
    "df2 = df1.groupby(['TIME','STATION']).sum().reset_index().sort_values(['STATION','TIME']).reset_index(drop=True)"
   ]
  },
  {
   "cell_type": "code",
   "execution_count": null,
   "id": "f3dab5cf-41b2-4334-a180-2cd9eb95b40a",
   "metadata": {},
   "outputs": [],
   "source": [
    "df2['ent'][df2['STATION']=='125 ST']"
   ]
  },
  {
   "cell_type": "code",
   "execution_count": null,
   "id": "e08353a5-6465-4c01-a518-4e85b4c0358f",
   "metadata": {},
   "outputs": [],
   "source": [
    "from sklearn.cluster import DBSCAN\n",
    "\n",
    "def anomaly_replacement(df,eps):\n",
    "    df_out = df.copy()\n",
    "    #for x in df.columns:\n",
    "    for x in ['ent','ex']:\n",
    "        df[[x]] = df[[x]].fillna(method='bfill').fillna(method='ffill')\n",
    "        _df = df[[x]]\n",
    "        \n",
    "        dbscan = DBSCAN(eps=eps, min_samples=3)\n",
    "        dbscan.fit(_df)\n",
    "        outliers = np.argwhere(dbscan.labels_ == -1).flatten()\n",
    "        _df.iloc[outliers,:] = np.nan\n",
    "        _df = _df.fillna(method='bfill').fillna(method='ffill')\n",
    "        df_out[x] = _df\n",
    "    return df_out"
   ]
  },
  {
   "cell_type": "code",
   "execution_count": null,
   "id": "22f71ce9-74b2-401a-91be-f1ea170df890",
   "metadata": {},
   "outputs": [],
   "source": [
    "df3 = df2[df2['STATION']=='125 ST'].copy()\n",
    "df3.head()"
   ]
  },
  {
   "cell_type": "code",
   "execution_count": null,
   "id": "950cedf6-e5cd-4f14-9a77-768b6acaa64d",
   "metadata": {},
   "outputs": [],
   "source": [
    "df4 = anomaly_replacement(df3,eps=70)"
   ]
  },
  {
   "cell_type": "code",
   "execution_count": null,
   "id": "3bd90b3a-ef7e-4a2f-8aa4-90a862cff6e3",
   "metadata": {},
   "outputs": [],
   "source": [
    "df4"
   ]
  },
  {
   "cell_type": "code",
   "execution_count": null,
   "id": "8cf1167d-c1b7-42d2-81b2-62a0bb7b2707",
   "metadata": {},
   "outputs": [],
   "source": [
    "df3[['ent','ex']].plot()"
   ]
  },
  {
   "cell_type": "code",
   "execution_count": null,
   "id": "19b5b279-99fe-45b3-b880-74ba919da693",
   "metadata": {},
   "outputs": [],
   "source": [
    "df4 = anomaly_replacement(df3,eps=70)\n",
    "df4.plot()\n",
    "plt.show()"
   ]
  },
  {
   "cell_type": "code",
   "execution_count": null,
   "id": "194472ee-9fbe-46a6-a8b3-53897cc8e50c",
   "metadata": {},
   "outputs": [],
   "source": [
    "df2.pivot(index='TIME',\n",
    "          columns='STATION',\n",
    "          values='ent')"
   ]
  },
  {
   "cell_type": "code",
   "execution_count": null,
   "id": "51263c1a-42ea-4421-9ddd-9da1669b9bb1",
   "metadata": {},
   "outputs": [],
   "source": []
  }
 ],
 "metadata": {
  "kernelspec": {
   "display_name": "Python 3 (ipykernel)",
   "language": "python",
   "name": "python3"
  },
  "language_info": {
   "codemirror_mode": {
    "name": "ipython",
    "version": 3
   },
   "file_extension": ".py",
   "mimetype": "text/x-python",
   "name": "python",
   "nbconvert_exporter": "python",
   "pygments_lexer": "ipython3",
   "version": "3.9.12"
  }
 },
 "nbformat": 4,
 "nbformat_minor": 5
}
