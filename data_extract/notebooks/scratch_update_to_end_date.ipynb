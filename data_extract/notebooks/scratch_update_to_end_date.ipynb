{
 "cells": [
  {
   "cell_type": "code",
   "execution_count": 1,
   "id": "5abcd5c8-7cf4-4af7-bce7-589801803144",
   "metadata": {},
   "outputs": [],
   "source": [
    "import numpy as np\n",
    "import datetime\n",
    "import pandas as pd\n",
    "from sklearn.cluster import DBSCAN"
   ]
  },
  {
   "cell_type": "code",
   "execution_count": 17,
   "id": "ade5892a-4190-4026-99b1-6d367d746bf7",
   "metadata": {},
   "outputs": [],
   "source": [
    "def get_dates(start_date, weeks=1):\n",
    "    # update to change start date to last saturday if date is not saturday\n",
    "    #start_date = convert_start_date(date)\n",
    "    dates = []\n",
    "\n",
    "    date_1 = datetime.datetime.strptime(start_date, \"%y%m%d\")\n",
    "    dates.append(date_1.strftime(\"%y%m%d\"))\n",
    "    for x in range(1,weeks):\n",
    "        next_date = (date_1 - datetime.timedelta(weeks=x)).strftime(\"%y%m%d\")\n",
    "        dates.append(next_date)\n",
    "    return sorted(dates)"
   ]
  },
  {
   "cell_type": "code",
   "execution_count": 20,
   "id": "58d40376-720b-4cb3-bf9c-bc0341a4460a",
   "metadata": {},
   "outputs": [],
   "source": [
    "dt = \"210109\"\n",
    "dates = get_dates(dt, weeks=2)"
   ]
  },
  {
   "cell_type": "code",
   "execution_count": 21,
   "id": "423b47f3-bdc5-4787-ab31-3732e474faa9",
   "metadata": {},
   "outputs": [
    {
     "data": {
      "text/plain": [
       "['210102', '210109']"
      ]
     },
     "execution_count": 21,
     "metadata": {},
     "output_type": "execute_result"
    }
   ],
   "source": [
    "dates"
   ]
  },
  {
   "cell_type": "code",
   "execution_count": 22,
   "id": "3f236dad-baf9-46a0-8dff-2c38852a38be",
   "metadata": {},
   "outputs": [
    {
     "data": {
      "text/plain": [
       "datetime.date(2022, 11, 5)"
      ]
     },
     "execution_count": 22,
     "metadata": {},
     "output_type": "execute_result"
    }
   ],
   "source": [
    "today = datetime.date.today()\n",
    "today"
   ]
  },
  {
   "cell_type": "code",
   "execution_count": 23,
   "id": "524334fc-e518-4a16-97be-a9d7a6677c1f",
   "metadata": {},
   "outputs": [],
   "source": [
    "idx = (today.weekday() + 1) % 7"
   ]
  },
  {
   "cell_type": "code",
   "execution_count": 24,
   "id": "f330df9e-d677-4fb3-8e7e-c2c39a56c50f",
   "metadata": {},
   "outputs": [
    {
     "data": {
      "text/plain": [
       "6"
      ]
     },
     "execution_count": 24,
     "metadata": {},
     "output_type": "execute_result"
    }
   ],
   "source": [
    "idx"
   ]
  },
  {
   "cell_type": "code",
   "execution_count": 25,
   "id": "ddd1b637-ea6c-4aea-be53-64d37d19b122",
   "metadata": {},
   "outputs": [],
   "source": [
    "sat = today - datetime.timedelta(7+idx-6)"
   ]
  },
  {
   "cell_type": "code",
   "execution_count": 26,
   "id": "ff862f02-e57d-457b-b827-d26040843e93",
   "metadata": {},
   "outputs": [
    {
     "data": {
      "text/plain": [
       "datetime.date(2022, 10, 29)"
      ]
     },
     "execution_count": 26,
     "metadata": {},
     "output_type": "execute_result"
    }
   ],
   "source": [
    "sat"
   ]
  },
  {
   "cell_type": "code",
   "execution_count": 33,
   "id": "bfc43077-0513-4913-9e15-a28d766f1c47",
   "metadata": {},
   "outputs": [],
   "source": [
    "def convert_start_date(date):\n",
    "    date = datetime.datetime.strptime(dt, \"%y%m%d\")\n",
    "    idx = (date.weekday() + 1) % 7\n",
    "    sat = date - datetime.timedelta(7+idx-6)\n",
    "    return sat"
   ]
  },
  {
   "cell_type": "code",
   "execution_count": 34,
   "id": "3846c887-5e0e-44ee-9f87-c5d56eb83bd1",
   "metadata": {},
   "outputs": [],
   "source": [
    "sat = convert_start_date(dt)"
   ]
  },
  {
   "cell_type": "code",
   "execution_count": 35,
   "id": "278e7240-4132-47b4-a5fb-5d94a087771e",
   "metadata": {},
   "outputs": [
    {
     "data": {
      "text/plain": [
       "datetime.datetime(2021, 1, 2, 0, 0)"
      ]
     },
     "execution_count": 35,
     "metadata": {},
     "output_type": "execute_result"
    }
   ],
   "source": [
    "sat"
   ]
  },
  {
   "cell_type": "code",
   "execution_count": 48,
   "id": "5ab45836-d918-4a6b-b916-6a1769095bf3",
   "metadata": {},
   "outputs": [
    {
     "data": {
      "text/plain": [
       "datetime.datetime(2022, 11, 5, 0, 0)"
      ]
     },
     "execution_count": 48,
     "metadata": {},
     "output_type": "execute_result"
    }
   ],
   "source": [
    "dt = '221105'\n",
    "date_1 = datetime.datetime.strptime(dt, \"%y%m%d\")\n",
    "date_1"
   ]
  },
  {
   "cell_type": "code",
   "execution_count": 47,
   "id": "0b53840e-fb9a-43fa-b91e-f3d9e0938f15",
   "metadata": {},
   "outputs": [
    {
     "data": {
      "text/plain": [
       "datetime.datetime(2022, 10, 29, 0, 0)"
      ]
     },
     "execution_count": 47,
     "metadata": {},
     "output_type": "execute_result"
    }
   ],
   "source": [
    "sat = convert_start_date(dt)\n",
    "sat"
   ]
  },
  {
   "cell_type": "code",
   "execution_count": 56,
   "id": "3e6a1b1f-bc21-435b-8db2-99401af0fb9e",
   "metadata": {},
   "outputs": [],
   "source": [
    "def get_dates(start_date, weeks=1):\n",
    "    start_date = convert_start_date(start_date)\n",
    "    dates = []\n",
    "    dates.append(start_date.strftime(\"%y%m%d\"))\n",
    "    for x in range(1,weeks):\n",
    "        next_date = (start_date - datetime.timedelta(weeks=x)).strftime(\"%y%m%d\")\n",
    "        dates.append(next_date)\n",
    "    return sorted(dates)"
   ]
  },
  {
   "cell_type": "code",
   "execution_count": 57,
   "id": "ce6e22bf-1cf5-4107-b955-38532df72bab",
   "metadata": {},
   "outputs": [
    {
     "data": {
      "text/plain": [
       "['220827',\n",
       " '220903',\n",
       " '220910',\n",
       " '220917',\n",
       " '220924',\n",
       " '221001',\n",
       " '221008',\n",
       " '221015',\n",
       " '221022',\n",
       " '221029']"
      ]
     },
     "execution_count": 57,
     "metadata": {},
     "output_type": "execute_result"
    }
   ],
   "source": [
    "dates = get_dates(dt, weeks=10)\n",
    "dates"
   ]
  },
  {
   "cell_type": "code",
   "execution_count": 58,
   "id": "4c4a272e-f6d1-46b3-8308-3a03871e23f2",
   "metadata": {},
   "outputs": [
    {
     "data": {
      "text/plain": [
       "336"
      ]
     },
     "execution_count": 58,
     "metadata": {},
     "output_type": "execute_result"
    }
   ],
   "source": [
    "24*14"
   ]
  },
  {
   "cell_type": "code",
   "execution_count": null,
   "id": "92c01a75-ecae-44d6-9026-9b417709701f",
   "metadata": {},
   "outputs": [],
   "source": []
  }
 ],
 "metadata": {
  "kernelspec": {
   "display_name": "Python 3 (ipykernel)",
   "language": "python",
   "name": "python3"
  },
  "language_info": {
   "codemirror_mode": {
    "name": "ipython",
    "version": 3
   },
   "file_extension": ".py",
   "mimetype": "text/x-python",
   "name": "python",
   "nbconvert_exporter": "python",
   "pygments_lexer": "ipython3",
   "version": "3.9.12"
  }
 },
 "nbformat": 4,
 "nbformat_minor": 5
}
